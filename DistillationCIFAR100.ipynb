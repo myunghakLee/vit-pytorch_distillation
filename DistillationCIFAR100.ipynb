{
 "cells": [
  {
   "cell_type": "code",
   "execution_count": 1,
   "id": "c4ce9e1b",
   "metadata": {
    "ExecuteTime": {
     "end_time": "2022-07-01T02:35:53.219154Z",
     "start_time": "2022-07-01T02:35:48.847781Z"
    }
   },
   "outputs": [
    {
     "name": "stdout",
     "output_type": "stream",
     "text": [
      "patch_size : 16\n",
      "image_size : 224\n",
      "hidden_dim : 768\n",
      "Files already downloaded and verified\n",
      "Files already downloaded and verified\n"
     ]
    }
   ],
   "source": [
    "import os\n",
    "os.environ[\"CUDA_DEVICE_ORDER\"]=\"PCI_BUS_ID\"   \n",
    "os.environ[\"CUDA_VISIBLE_DEVICES\"]=\"1\"\n",
    "\n",
    "\n",
    "import torch\n",
    "import torchvision\n",
    "import torch.nn as nn\n",
    "import torch.optim as optim\n",
    "import torch.backends.cudnn as cudnn\n",
    "import torchvision.transforms as transforms\n",
    "\n",
    "\n",
    "import utils\n",
    "import random\n",
    "import numpy as np\n",
    "from tqdm import tqdm\n",
    "\n",
    "teacher = torchvision.models.vit_b_16(pretrained = True)\n",
    "student = torchvision.models.vit_b_16(pretrained = True)\n",
    "# model = torchvision.models.vit_l_32(pretrained=True)\n",
    "\n",
    "print(f\"patch_size : {student.patch_size}\")\n",
    "print(f\"image_size : {student.image_size}\")\n",
    "print(f\"hidden_dim : {student.hidden_dim}\")\n",
    "\n",
    "use_trained_model = False\n",
    "\n",
    "# 현재 testset과 trainset의 normalize가 다르다. 그런데 student model의 성능이 teacher model에 비해 월등하다는 것은 domain invariant하다는 것이 아닌가?\n",
    "\n",
    "normalize = transforms.Normalize(mean=[0.5074,0.4867,0.4411],\n",
    "                                 std=[0.2011,0.1987,0.2025])\n",
    "\n",
    "# transform = transforms.Compose([\n",
    "#     transforms.Resize(256),\n",
    "#     transforms.CenterCrop(224),\n",
    "#     transforms.ToTensor(),\n",
    "#     transforms.Normalize(mean=[0.485, 0.456, 0.406],std=[0.229, 0.224, 0.225]),\n",
    "# ])\n",
    "\n",
    "transform = transforms.Compose([\n",
    "    transforms.Resize(256),\n",
    "    transforms.CenterCrop(224),\n",
    "    transforms.ToTensor(),\n",
    "    normalize,\n",
    "])\n",
    "\n",
    "\n",
    "transform_train = transforms.Compose([\n",
    "        transforms.RandomResizedCrop(224),\n",
    "        transforms.RandomHorizontalFlip(),\n",
    "        transforms.ToTensor(),\n",
    "        normalize,\n",
    "])\n",
    "\n",
    "dataset_val = torchvision.datasets.CIFAR100(root=\"./\", train=False, transform=transform, download=True)\n",
    "dataset_train = torchvision.datasets.CIFAR100(root=\"./\", train=True, transform=transform_train, download=True)\n",
    "\n",
    "val_loader = torch.utils.data.DataLoader(dataset_val,\n",
    "                                          batch_size=128,\n",
    "                                          shuffle=True,\n",
    "                                          num_workers=4)\n",
    "\n",
    "train_loader = torch.utils.data.DataLoader(dataset_train,\n",
    "                                          batch_size=128,\n",
    "                                          shuffle=True,\n",
    "                                          num_workers=4)\n",
    "\n",
    "device = 'cuda' if torch.cuda.is_available() else 'cpu'\n"
   ]
  },
  {
   "cell_type": "code",
   "execution_count": 2,
   "id": "e7b0d626",
   "metadata": {
    "ExecuteTime": {
     "end_time": "2022-07-01T02:35:58.015121Z",
     "start_time": "2022-07-01T02:35:53.221737Z"
    }
   },
   "outputs": [],
   "source": [
    "if use_trained_model:\n",
    "    teacher = torch.load(\"CIFAR100_vit_b_16_71.pth\")\n",
    "else:\n",
    "    teacher = utils.VisionTransformer(teacher)\n",
    "    teacher.heads.head = nn.Linear(768, 100)\n",
    "                         \n",
    "student = utils.VisionTransformer(student)\n",
    "student.heads.head = nn.Linear(768, 100)\n",
    "\n",
    "\n",
    "\n",
    "S_optimizer = optim.SGD(student.parameters(), lr=0.01, momentum=0.9)\n",
    "T_optimizer = optim.SGD(teacher.parameters(), lr=0.01, momentum=0.9)\n",
    "CE_loss = nn.CrossEntropyLoss()\n",
    "\n",
    "S_scheduler = torch.optim.lr_scheduler.MultiStepLR(S_optimizer, milestones=[1,2,3,4,5,6,7], gamma=0.1)\n",
    "T_scheduler = torch.optim.lr_scheduler.MultiStepLR(T_optimizer, milestones=[1,2,3,4,5,6,7], gamma=0.1)\n",
    "\n",
    "student = student.cuda()\n",
    "teacher = teacher.cuda()\n",
    "\n"
   ]
  },
  {
   "cell_type": "code",
   "execution_count": null,
   "id": "e3aaca2b",
   "metadata": {
    "ExecuteTime": {
     "start_time": "2022-07-01T02:36:03.040Z"
    }
   },
   "outputs": [
    {
     "name": "stdout",
     "output_type": "stream",
     "text": [
      "lr : [0.01]\n"
     ]
    },
    {
     "name": "stderr",
     "output_type": "stream",
     "text": [
      "100%|██████████| 391/391 [03:27<00:00,  1.89it/s]\n",
      "100%|██████████| 79/79 [00:16<00:00,  4.81it/s]\n"
     ]
    },
    {
     "name": "stdout",
     "output_type": "stream",
     "text": [
      "0 \t test acc : 0.7590000033378601\n",
      "====================================================================================================\n",
      "lr : [0.01]\n"
     ]
    },
    {
     "name": "stderr",
     "output_type": "stream",
     "text": [
      "100%|██████████| 391/391 [03:29<00:00,  1.86it/s]\n",
      "100%|██████████| 79/79 [00:16<00:00,  4.80it/s]\n"
     ]
    },
    {
     "name": "stdout",
     "output_type": "stream",
     "text": [
      "1 \t test acc : 0.8314999938011169\n",
      "====================================================================================================\n",
      "lr : [0.01]\n"
     ]
    },
    {
     "name": "stderr",
     "output_type": "stream",
     "text": [
      "100%|██████████| 391/391 [03:29<00:00,  1.86it/s]\n",
      "100%|██████████| 79/79 [00:16<00:00,  4.81it/s]\n"
     ]
    },
    {
     "name": "stdout",
     "output_type": "stream",
     "text": [
      "2 \t test acc : 0.8355000019073486\n",
      "====================================================================================================\n",
      "lr : [0.01]\n"
     ]
    },
    {
     "name": "stderr",
     "output_type": "stream",
     "text": [
      "100%|██████████| 391/391 [03:29<00:00,  1.86it/s]\n",
      "100%|██████████| 79/79 [00:16<00:00,  4.76it/s]\n"
     ]
    },
    {
     "name": "stdout",
     "output_type": "stream",
     "text": [
      "3 \t test acc : 0.835599958896637\n",
      "====================================================================================================\n",
      "lr : [0.01]\n"
     ]
    },
    {
     "name": "stderr",
     "output_type": "stream",
     "text": [
      "100%|██████████| 391/391 [03:29<00:00,  1.87it/s]\n",
      "100%|██████████| 79/79 [00:16<00:00,  4.83it/s]\n"
     ]
    },
    {
     "name": "stdout",
     "output_type": "stream",
     "text": [
      "4 \t test acc : 0.8356999754905701\n",
      "====================================================================================================\n",
      "lr : [0.01]\n"
     ]
    },
    {
     "name": "stderr",
     "output_type": "stream",
     "text": [
      "100%|██████████| 391/391 [03:29<00:00,  1.87it/s]\n",
      "100%|██████████| 79/79 [00:16<00:00,  4.80it/s]\n"
     ]
    },
    {
     "name": "stdout",
     "output_type": "stream",
     "text": [
      "5 \t test acc : 0.8356999754905701\n",
      "====================================================================================================\n",
      "lr : [0.01]\n"
     ]
    },
    {
     "name": "stderr",
     "output_type": "stream",
     "text": [
      "  1%|          | 4/391 [00:02<03:56,  1.63it/s]"
     ]
    }
   ],
   "source": [
    "\n",
    "\n",
    "if not use_trained_model:\n",
    "    criterion_onlylabel = lambda a,b : mse(a*b, b)\n",
    "    best_acc = 0.0\n",
    "    stack = 0 \n",
    "    criterion_CE = nn.CrossEntropyLoss()\n",
    "    mse = nn.MSELoss()\n",
    "    softmax = torch.nn.Softmax(dim = 1)\n",
    "    criterion_KLD = torch.nn.KLDivLoss(reduction=\"batchmean\")\n",
    "    criterion_response = lambda a,b : criterion_KLD(torch.log_softmax(a, dim=1),torch.softmax(b, dim=1))\n",
    "\n",
    "\n",
    "\n",
    "\n",
    "    torch.manual_seed(0)\n",
    "    torch.cuda.manual_seed(0)\n",
    "    torch.cuda.manual_seed_all(0)\n",
    "    np.random.seed(0)\n",
    "    cudnn.benchmark = False\n",
    "    cudnn.deterministic = True\n",
    "    random.seed(0)\n",
    "\n",
    "\n",
    "    for epoch in range(100):\n",
    "        print(f\"lr : {S_scheduler.get_last_lr()}\")\n",
    "        T_correct = 0\n",
    "        S_correct = 0\n",
    "        all_data = 0\n",
    "\n",
    "        loss_distill = []\n",
    "        loss_CE = []\n",
    "        loss_response = []\n",
    "        student = student.train()\n",
    "        for img, label in tqdm(train_loader):\n",
    "            img = img.cuda()\n",
    "            label = label.cuda()\n",
    "\n",
    "            T_optimizer.zero_grad()\n",
    "            output, _ = teacher(img, 0)\n",
    "\n",
    "#             output = softmax(output)\n",
    "            loss = criterion_CE(output, label)\n",
    "            loss.backward()\n",
    "            T_optimizer.step()\n",
    "            \n",
    "        T_scheduler.step()\n",
    "        test_acc = utils.test(teacher, val_loader, epoch)\n",
    "\n",
    "\n",
    "        if test_acc > best_acc:\n",
    "            stack = 0\n",
    "            best_acc = test_acc\n",
    "        else:\n",
    "            stack+=1\n",
    "        past_acc = test_acc\n",
    "\n",
    "        if stack > 5:\n",
    "            S_scheduler.step()\n",
    "            stack = 0\n",
    "\n",
    "        print(\"=\" * 100)        "
   ]
  },
  {
   "cell_type": "code",
   "execution_count": 3,
   "id": "9bf75e19",
   "metadata": {
    "ExecuteTime": {
     "end_time": "2022-06-30T00:40:02.594516Z",
     "start_time": "2022-06-29T18:27:12.372067Z"
    }
   },
   "outputs": [
    {
     "name": "stdout",
     "output_type": "stream",
     "text": [
      "lr : [0.01]\n"
     ]
    },
    {
     "name": "stderr",
     "output_type": "stream",
     "text": [
      "100%|██████████| 391/391 [03:25<00:00,  1.90it/s]\n",
      "100%|██████████| 79/79 [00:16<00:00,  4.88it/s]\n"
     ]
    },
    {
     "name": "stdout",
     "output_type": "stream",
     "text": [
      "0 \t test acc : 0.5884999632835388\n",
      "====================================================================================================\n",
      "lr : [0.01]\n"
     ]
    },
    {
     "name": "stderr",
     "output_type": "stream",
     "text": [
      "100%|██████████| 391/391 [03:27<00:00,  1.88it/s]\n",
      "100%|██████████| 79/79 [00:16<00:00,  4.91it/s]\n"
     ]
    },
    {
     "name": "stdout",
     "output_type": "stream",
     "text": [
      "1 \t test acc : 0.7601000070571899\n",
      "====================================================================================================\n",
      "lr : [0.01]\n"
     ]
    },
    {
     "name": "stderr",
     "output_type": "stream",
     "text": [
      "100%|██████████| 391/391 [03:27<00:00,  1.88it/s]\n",
      "100%|██████████| 79/79 [00:16<00:00,  4.90it/s]\n"
     ]
    },
    {
     "name": "stdout",
     "output_type": "stream",
     "text": [
      "2 \t test acc : 0.7750999927520752\n",
      "====================================================================================================\n",
      "lr : [0.01]\n"
     ]
    },
    {
     "name": "stderr",
     "output_type": "stream",
     "text": [
      "100%|██████████| 391/391 [03:27<00:00,  1.88it/s]\n",
      "100%|██████████| 79/79 [00:16<00:00,  4.89it/s]\n"
     ]
    },
    {
     "name": "stdout",
     "output_type": "stream",
     "text": [
      "3 \t test acc : 0.7770999670028687\n",
      "====================================================================================================\n",
      "lr : [0.01]\n"
     ]
    },
    {
     "name": "stderr",
     "output_type": "stream",
     "text": [
      "100%|██████████| 391/391 [03:27<00:00,  1.89it/s]\n",
      "100%|██████████| 79/79 [00:16<00:00,  4.89it/s]\n"
     ]
    },
    {
     "name": "stdout",
     "output_type": "stream",
     "text": [
      "4 \t test acc : 0.7773000001907349\n",
      "====================================================================================================\n",
      "lr : [0.01]\n"
     ]
    },
    {
     "name": "stderr",
     "output_type": "stream",
     "text": [
      "100%|██████████| 391/391 [03:27<00:00,  1.88it/s]\n",
      "100%|██████████| 79/79 [00:16<00:00,  4.88it/s]\n"
     ]
    },
    {
     "name": "stdout",
     "output_type": "stream",
     "text": [
      "5 \t test acc : 0.7771999835968018\n",
      "====================================================================================================\n",
      "lr : [0.01]\n"
     ]
    },
    {
     "name": "stderr",
     "output_type": "stream",
     "text": [
      "100%|██████████| 391/391 [03:27<00:00,  1.89it/s]\n",
      "100%|██████████| 79/79 [00:16<00:00,  4.89it/s]\n"
     ]
    },
    {
     "name": "stdout",
     "output_type": "stream",
     "text": [
      "6 \t test acc : 0.7773000001907349\n",
      "====================================================================================================\n",
      "lr : [0.01]\n"
     ]
    },
    {
     "name": "stderr",
     "output_type": "stream",
     "text": [
      "100%|██████████| 391/391 [03:27<00:00,  1.88it/s]\n",
      "100%|██████████| 79/79 [00:16<00:00,  4.90it/s]\n"
     ]
    },
    {
     "name": "stdout",
     "output_type": "stream",
     "text": [
      "7 \t test acc : 0.7771999835968018\n",
      "====================================================================================================\n",
      "lr : [0.01]\n"
     ]
    },
    {
     "name": "stderr",
     "output_type": "stream",
     "text": [
      "100%|██████████| 391/391 [03:27<00:00,  1.89it/s]\n",
      "100%|██████████| 79/79 [00:16<00:00,  4.90it/s]\n"
     ]
    },
    {
     "name": "stdout",
     "output_type": "stream",
     "text": [
      "8 \t test acc : 0.7771999835968018\n",
      "====================================================================================================\n",
      "lr : [0.01]\n"
     ]
    },
    {
     "name": "stderr",
     "output_type": "stream",
     "text": [
      "100%|██████████| 391/391 [03:27<00:00,  1.88it/s]\n",
      "100%|██████████| 79/79 [00:16<00:00,  4.89it/s]\n"
     ]
    },
    {
     "name": "stdout",
     "output_type": "stream",
     "text": [
      "9 \t test acc : 0.7771999835968018\n",
      "====================================================================================================\n",
      "lr : [0.01]\n"
     ]
    },
    {
     "name": "stderr",
     "output_type": "stream",
     "text": [
      "100%|██████████| 391/391 [03:27<00:00,  1.89it/s]\n",
      "100%|██████████| 79/79 [00:16<00:00,  4.89it/s]\n",
      "/opt/conda/envs/torch/lib/python3.8/site-packages/torch/optim/lr_scheduler.py:131: UserWarning: Detected call of `lr_scheduler.step()` before `optimizer.step()`. In PyTorch 1.1.0 and later, you should call them in the opposite order: `optimizer.step()` before `lr_scheduler.step()`.  Failure to do this will result in PyTorch skipping the first value of the learning rate schedule. See more details at https://pytorch.org/docs/stable/optim.html#how-to-adjust-learning-rate\n",
      "  warnings.warn(\"Detected call of `lr_scheduler.step()` before `optimizer.step()`. \"\n"
     ]
    },
    {
     "name": "stdout",
     "output_type": "stream",
     "text": [
      "10 \t test acc : 0.7773000001907349\n",
      "====================================================================================================\n",
      "lr : [0.001]\n"
     ]
    },
    {
     "name": "stderr",
     "output_type": "stream",
     "text": [
      "100%|██████████| 391/391 [03:27<00:00,  1.89it/s]\n",
      "100%|██████████| 79/79 [00:16<00:00,  4.89it/s]\n"
     ]
    },
    {
     "name": "stdout",
     "output_type": "stream",
     "text": [
      "11 \t test acc : 0.7771999835968018\n",
      "====================================================================================================\n",
      "lr : [0.001]\n"
     ]
    },
    {
     "name": "stderr",
     "output_type": "stream",
     "text": [
      "100%|██████████| 391/391 [03:27<00:00,  1.88it/s]\n",
      "100%|██████████| 79/79 [00:16<00:00,  4.89it/s]\n"
     ]
    },
    {
     "name": "stdout",
     "output_type": "stream",
     "text": [
      "12 \t test acc : 0.7773000001907349\n",
      "====================================================================================================\n",
      "lr : [0.001]\n"
     ]
    },
    {
     "name": "stderr",
     "output_type": "stream",
     "text": [
      "100%|██████████| 391/391 [03:27<00:00,  1.89it/s]\n",
      "100%|██████████| 79/79 [00:16<00:00,  4.88it/s]\n"
     ]
    },
    {
     "name": "stdout",
     "output_type": "stream",
     "text": [
      "13 \t test acc : 0.7773000001907349\n",
      "====================================================================================================\n",
      "lr : [0.001]\n"
     ]
    },
    {
     "name": "stderr",
     "output_type": "stream",
     "text": [
      "100%|██████████| 391/391 [03:27<00:00,  1.89it/s]\n",
      "100%|██████████| 79/79 [00:16<00:00,  4.90it/s]\n"
     ]
    },
    {
     "name": "stdout",
     "output_type": "stream",
     "text": [
      "14 \t test acc : 0.7771999835968018\n",
      "====================================================================================================\n",
      "lr : [0.001]\n"
     ]
    },
    {
     "name": "stderr",
     "output_type": "stream",
     "text": [
      "100%|██████████| 391/391 [03:27<00:00,  1.89it/s]\n",
      "100%|██████████| 79/79 [00:16<00:00,  4.89it/s]\n"
     ]
    },
    {
     "name": "stdout",
     "output_type": "stream",
     "text": [
      "15 \t test acc : 0.7773000001907349\n",
      "====================================================================================================\n",
      "lr : [0.001]\n"
     ]
    },
    {
     "name": "stderr",
     "output_type": "stream",
     "text": [
      "100%|██████████| 391/391 [03:27<00:00,  1.89it/s]\n",
      "100%|██████████| 79/79 [00:16<00:00,  4.88it/s]\n"
     ]
    },
    {
     "name": "stdout",
     "output_type": "stream",
     "text": [
      "16 \t test acc : 0.7773000001907349\n",
      "====================================================================================================\n",
      "lr : [0.0001]\n"
     ]
    },
    {
     "name": "stderr",
     "output_type": "stream",
     "text": [
      "100%|██████████| 391/391 [03:27<00:00,  1.88it/s]\n",
      "100%|██████████| 79/79 [00:16<00:00,  4.88it/s]\n"
     ]
    },
    {
     "name": "stdout",
     "output_type": "stream",
     "text": [
      "17 \t test acc : 0.7773000001907349\n",
      "====================================================================================================\n",
      "lr : [0.0001]\n"
     ]
    },
    {
     "name": "stderr",
     "output_type": "stream",
     "text": [
      "100%|██████████| 391/391 [03:27<00:00,  1.88it/s]\n",
      "100%|██████████| 79/79 [00:16<00:00,  4.90it/s]\n"
     ]
    },
    {
     "name": "stdout",
     "output_type": "stream",
     "text": [
      "18 \t test acc : 0.7771999835968018\n",
      "====================================================================================================\n",
      "lr : [0.0001]\n"
     ]
    },
    {
     "name": "stderr",
     "output_type": "stream",
     "text": [
      "100%|██████████| 391/391 [03:27<00:00,  1.89it/s]\n",
      "100%|██████████| 79/79 [00:16<00:00,  4.87it/s]\n"
     ]
    },
    {
     "name": "stdout",
     "output_type": "stream",
     "text": [
      "19 \t test acc : 0.7773000001907349\n",
      "====================================================================================================\n",
      "lr : [0.0001]\n"
     ]
    },
    {
     "name": "stderr",
     "output_type": "stream",
     "text": [
      "100%|██████████| 391/391 [03:27<00:00,  1.88it/s]\n",
      "100%|██████████| 79/79 [00:16<00:00,  4.87it/s]\n"
     ]
    },
    {
     "name": "stdout",
     "output_type": "stream",
     "text": [
      "20 \t test acc : 0.7771999835968018\n",
      "====================================================================================================\n",
      "lr : [0.0001]\n"
     ]
    },
    {
     "name": "stderr",
     "output_type": "stream",
     "text": [
      "100%|██████████| 391/391 [03:27<00:00,  1.89it/s]\n",
      "100%|██████████| 79/79 [00:16<00:00,  4.89it/s]\n"
     ]
    },
    {
     "name": "stdout",
     "output_type": "stream",
     "text": [
      "21 \t test acc : 0.7773000001907349\n",
      "====================================================================================================\n",
      "lr : [0.0001]\n"
     ]
    },
    {
     "name": "stderr",
     "output_type": "stream",
     "text": [
      "100%|██████████| 391/391 [03:27<00:00,  1.89it/s]\n",
      "100%|██████████| 79/79 [00:16<00:00,  4.91it/s]\n"
     ]
    },
    {
     "name": "stdout",
     "output_type": "stream",
     "text": [
      "22 \t test acc : 0.7771999835968018\n",
      "====================================================================================================\n",
      "lr : [1e-05]\n"
     ]
    },
    {
     "name": "stderr",
     "output_type": "stream",
     "text": [
      "100%|██████████| 391/391 [03:27<00:00,  1.88it/s]\n",
      "100%|██████████| 79/79 [00:16<00:00,  4.89it/s]\n"
     ]
    },
    {
     "name": "stdout",
     "output_type": "stream",
     "text": [
      "23 \t test acc : 0.7771999835968018\n",
      "====================================================================================================\n",
      "lr : [1e-05]\n"
     ]
    },
    {
     "name": "stderr",
     "output_type": "stream",
     "text": [
      "100%|██████████| 391/391 [03:27<00:00,  1.89it/s]\n",
      "100%|██████████| 79/79 [00:16<00:00,  4.90it/s]\n"
     ]
    },
    {
     "name": "stdout",
     "output_type": "stream",
     "text": [
      "24 \t test acc : 0.7773000001907349\n",
      "====================================================================================================\n",
      "lr : [1e-05]\n"
     ]
    },
    {
     "name": "stderr",
     "output_type": "stream",
     "text": [
      "100%|██████████| 391/391 [03:27<00:00,  1.89it/s]\n",
      "100%|██████████| 79/79 [00:16<00:00,  4.89it/s]\n"
     ]
    },
    {
     "name": "stdout",
     "output_type": "stream",
     "text": [
      "25 \t test acc : 0.7771999835968018\n",
      "====================================================================================================\n",
      "lr : [1e-05]\n"
     ]
    },
    {
     "name": "stderr",
     "output_type": "stream",
     "text": [
      "100%|██████████| 391/391 [03:27<00:00,  1.88it/s]\n",
      "100%|██████████| 79/79 [00:16<00:00,  4.88it/s]\n"
     ]
    },
    {
     "name": "stdout",
     "output_type": "stream",
     "text": [
      "26 \t test acc : 0.7771999835968018\n",
      "====================================================================================================\n",
      "lr : [1e-05]\n"
     ]
    },
    {
     "name": "stderr",
     "output_type": "stream",
     "text": [
      "100%|██████████| 391/391 [03:27<00:00,  1.89it/s]\n",
      "100%|██████████| 79/79 [00:16<00:00,  4.89it/s]\n"
     ]
    },
    {
     "name": "stdout",
     "output_type": "stream",
     "text": [
      "27 \t test acc : 0.7773000001907349\n",
      "====================================================================================================\n",
      "lr : [1e-05]\n"
     ]
    },
    {
     "name": "stderr",
     "output_type": "stream",
     "text": [
      "100%|██████████| 391/391 [03:27<00:00,  1.89it/s]\n",
      "100%|██████████| 79/79 [00:16<00:00,  4.87it/s]\n"
     ]
    },
    {
     "name": "stdout",
     "output_type": "stream",
     "text": [
      "28 \t test acc : 0.7773000001907349\n",
      "====================================================================================================\n",
      "lr : [1.0000000000000002e-06]\n"
     ]
    },
    {
     "name": "stderr",
     "output_type": "stream",
     "text": [
      "100%|██████████| 391/391 [03:27<00:00,  1.88it/s]\n",
      "100%|██████████| 79/79 [00:16<00:00,  4.90it/s]\n"
     ]
    },
    {
     "name": "stdout",
     "output_type": "stream",
     "text": [
      "29 \t test acc : 0.7771999835968018\n",
      "====================================================================================================\n",
      "lr : [1.0000000000000002e-06]\n"
     ]
    },
    {
     "name": "stderr",
     "output_type": "stream",
     "text": [
      "100%|██████████| 391/391 [03:27<00:00,  1.89it/s]\n",
      "100%|██████████| 79/79 [00:16<00:00,  4.88it/s]\n"
     ]
    },
    {
     "name": "stdout",
     "output_type": "stream",
     "text": [
      "30 \t test acc : 0.7771999835968018\n",
      "====================================================================================================\n",
      "lr : [1.0000000000000002e-06]\n"
     ]
    },
    {
     "name": "stderr",
     "output_type": "stream",
     "text": [
      "100%|██████████| 391/391 [03:27<00:00,  1.88it/s]\n",
      "100%|██████████| 79/79 [00:16<00:00,  4.88it/s]\n"
     ]
    },
    {
     "name": "stdout",
     "output_type": "stream",
     "text": [
      "31 \t test acc : 0.7773000001907349\n",
      "====================================================================================================\n",
      "lr : [1.0000000000000002e-06]\n"
     ]
    },
    {
     "name": "stderr",
     "output_type": "stream",
     "text": [
      "100%|██████████| 391/391 [03:27<00:00,  1.88it/s]\n",
      "100%|██████████| 79/79 [00:16<00:00,  4.89it/s]\n"
     ]
    },
    {
     "name": "stdout",
     "output_type": "stream",
     "text": [
      "32 \t test acc : 0.7770999670028687\n",
      "====================================================================================================\n",
      "lr : [1.0000000000000002e-06]\n"
     ]
    },
    {
     "name": "stderr",
     "output_type": "stream",
     "text": [
      "100%|██████████| 391/391 [03:27<00:00,  1.89it/s]\n",
      "100%|██████████| 79/79 [00:16<00:00,  4.89it/s]\n"
     ]
    },
    {
     "name": "stdout",
     "output_type": "stream",
     "text": [
      "33 \t test acc : 0.7773000001907349\n",
      "====================================================================================================\n",
      "lr : [1.0000000000000002e-06]\n"
     ]
    },
    {
     "name": "stderr",
     "output_type": "stream",
     "text": [
      "100%|██████████| 391/391 [03:27<00:00,  1.89it/s]\n",
      "100%|██████████| 79/79 [00:16<00:00,  4.88it/s]\n"
     ]
    },
    {
     "name": "stdout",
     "output_type": "stream",
     "text": [
      "34 \t test acc : 0.7773000001907349\n",
      "====================================================================================================\n",
      "lr : [1.0000000000000002e-07]\n"
     ]
    },
    {
     "name": "stderr",
     "output_type": "stream",
     "text": [
      "100%|██████████| 391/391 [03:27<00:00,  1.88it/s]\n",
      "100%|██████████| 79/79 [00:16<00:00,  4.89it/s]\n"
     ]
    },
    {
     "name": "stdout",
     "output_type": "stream",
     "text": [
      "35 \t test acc : 0.7773000001907349\n",
      "====================================================================================================\n",
      "lr : [1.0000000000000002e-07]\n"
     ]
    },
    {
     "name": "stderr",
     "output_type": "stream",
     "text": [
      "100%|██████████| 391/391 [03:27<00:00,  1.89it/s]\n",
      "100%|██████████| 79/79 [00:16<00:00,  4.88it/s]\n"
     ]
    },
    {
     "name": "stdout",
     "output_type": "stream",
     "text": [
      "36 \t test acc : 0.7771999835968018\n",
      "====================================================================================================\n",
      "lr : [1.0000000000000002e-07]\n"
     ]
    },
    {
     "name": "stderr",
     "output_type": "stream",
     "text": [
      "100%|██████████| 391/391 [03:27<00:00,  1.88it/s]\n",
      "100%|██████████| 79/79 [00:16<00:00,  4.89it/s]\n"
     ]
    },
    {
     "name": "stdout",
     "output_type": "stream",
     "text": [
      "37 \t test acc : 0.7773000001907349\n",
      "====================================================================================================\n",
      "lr : [1.0000000000000002e-07]\n"
     ]
    },
    {
     "name": "stderr",
     "output_type": "stream",
     "text": [
      "100%|██████████| 391/391 [03:27<00:00,  1.88it/s]\n",
      "100%|██████████| 79/79 [00:16<00:00,  4.89it/s]\n"
     ]
    },
    {
     "name": "stdout",
     "output_type": "stream",
     "text": [
      "38 \t test acc : 0.7773000001907349\n",
      "====================================================================================================\n",
      "lr : [1.0000000000000002e-07]\n"
     ]
    },
    {
     "name": "stderr",
     "output_type": "stream",
     "text": [
      "100%|██████████| 391/391 [03:27<00:00,  1.89it/s]\n",
      "100%|██████████| 79/79 [00:16<00:00,  4.88it/s]\n"
     ]
    },
    {
     "name": "stdout",
     "output_type": "stream",
     "text": [
      "39 \t test acc : 0.7773000001907349\n",
      "====================================================================================================\n",
      "lr : [1.0000000000000002e-07]\n"
     ]
    },
    {
     "name": "stderr",
     "output_type": "stream",
     "text": [
      "100%|██████████| 391/391 [03:27<00:00,  1.88it/s]\n",
      "100%|██████████| 79/79 [00:16<00:00,  4.84it/s]\n"
     ]
    },
    {
     "name": "stdout",
     "output_type": "stream",
     "text": [
      "40 \t test acc : 0.7771999835968018\n",
      "====================================================================================================\n",
      "lr : [1.0000000000000004e-08]\n"
     ]
    },
    {
     "name": "stderr",
     "output_type": "stream",
     "text": [
      "100%|██████████| 391/391 [03:27<00:00,  1.89it/s]\n",
      "100%|██████████| 79/79 [00:16<00:00,  4.88it/s]\n"
     ]
    },
    {
     "name": "stdout",
     "output_type": "stream",
     "text": [
      "41 \t test acc : 0.7771999835968018\n",
      "====================================================================================================\n",
      "lr : [1.0000000000000004e-08]\n"
     ]
    },
    {
     "name": "stderr",
     "output_type": "stream",
     "text": [
      "100%|██████████| 391/391 [03:27<00:00,  1.88it/s]\n",
      "100%|██████████| 79/79 [00:16<00:00,  4.89it/s]\n"
     ]
    },
    {
     "name": "stdout",
     "output_type": "stream",
     "text": [
      "42 \t test acc : 0.7771999835968018\n",
      "====================================================================================================\n",
      "lr : [1.0000000000000004e-08]\n"
     ]
    },
    {
     "name": "stderr",
     "output_type": "stream",
     "text": [
      "100%|██████████| 391/391 [03:27<00:00,  1.89it/s]\n",
      "100%|██████████| 79/79 [00:16<00:00,  4.88it/s]\n"
     ]
    },
    {
     "name": "stdout",
     "output_type": "stream",
     "text": [
      "43 \t test acc : 0.7771999835968018\n",
      "====================================================================================================\n",
      "lr : [1.0000000000000004e-08]\n"
     ]
    },
    {
     "name": "stderr",
     "output_type": "stream",
     "text": [
      "100%|██████████| 391/391 [03:27<00:00,  1.89it/s]\n",
      "100%|██████████| 79/79 [00:16<00:00,  4.89it/s]\n"
     ]
    },
    {
     "name": "stdout",
     "output_type": "stream",
     "text": [
      "44 \t test acc : 0.7773000001907349\n",
      "====================================================================================================\n",
      "lr : [1.0000000000000004e-08]\n"
     ]
    },
    {
     "name": "stderr",
     "output_type": "stream",
     "text": [
      "100%|██████████| 391/391 [03:27<00:00,  1.88it/s]\n",
      "100%|██████████| 79/79 [00:16<00:00,  4.87it/s]\n"
     ]
    },
    {
     "name": "stdout",
     "output_type": "stream",
     "text": [
      "45 \t test acc : 0.7773000001907349\n",
      "====================================================================================================\n",
      "lr : [1.0000000000000004e-08]\n"
     ]
    },
    {
     "name": "stderr",
     "output_type": "stream",
     "text": [
      "100%|██████████| 391/391 [03:27<00:00,  1.88it/s]\n",
      "100%|██████████| 79/79 [00:16<00:00,  4.88it/s]\n"
     ]
    },
    {
     "name": "stdout",
     "output_type": "stream",
     "text": [
      "46 \t test acc : 0.7771999835968018\n",
      "====================================================================================================\n",
      "lr : [1.0000000000000005e-09]\n"
     ]
    },
    {
     "name": "stderr",
     "output_type": "stream",
     "text": [
      "100%|██████████| 391/391 [03:27<00:00,  1.88it/s]\n",
      "100%|██████████| 79/79 [00:16<00:00,  4.88it/s]\n"
     ]
    },
    {
     "name": "stdout",
     "output_type": "stream",
     "text": [
      "47 \t test acc : 0.7771999835968018\n",
      "====================================================================================================\n",
      "lr : [1.0000000000000005e-09]\n"
     ]
    },
    {
     "name": "stderr",
     "output_type": "stream",
     "text": [
      "100%|██████████| 391/391 [03:27<00:00,  1.88it/s]\n",
      "100%|██████████| 79/79 [00:16<00:00,  4.89it/s]\n"
     ]
    },
    {
     "name": "stdout",
     "output_type": "stream",
     "text": [
      "48 \t test acc : 0.7773000001907349\n",
      "====================================================================================================\n",
      "lr : [1.0000000000000005e-09]\n"
     ]
    },
    {
     "name": "stderr",
     "output_type": "stream",
     "text": [
      "100%|██████████| 391/391 [03:27<00:00,  1.88it/s]\n",
      "100%|██████████| 79/79 [00:16<00:00,  4.89it/s]\n"
     ]
    },
    {
     "name": "stdout",
     "output_type": "stream",
     "text": [
      "49 \t test acc : 0.7773000001907349\n",
      "====================================================================================================\n",
      "lr : [1.0000000000000005e-09]\n"
     ]
    },
    {
     "name": "stderr",
     "output_type": "stream",
     "text": [
      "100%|██████████| 391/391 [03:27<00:00,  1.88it/s]\n",
      "100%|██████████| 79/79 [00:16<00:00,  4.85it/s]\n"
     ]
    },
    {
     "name": "stdout",
     "output_type": "stream",
     "text": [
      "50 \t test acc : 0.7771999835968018\n",
      "====================================================================================================\n",
      "lr : [1.0000000000000005e-09]\n"
     ]
    },
    {
     "name": "stderr",
     "output_type": "stream",
     "text": [
      "100%|██████████| 391/391 [03:27<00:00,  1.88it/s]\n",
      "100%|██████████| 79/79 [00:16<00:00,  4.87it/s]\n"
     ]
    },
    {
     "name": "stdout",
     "output_type": "stream",
     "text": [
      "51 \t test acc : 0.7771999835968018\n",
      "====================================================================================================\n",
      "lr : [1.0000000000000005e-09]\n"
     ]
    },
    {
     "name": "stderr",
     "output_type": "stream",
     "text": [
      "100%|██████████| 391/391 [03:27<00:00,  1.88it/s]\n",
      "100%|██████████| 79/79 [00:16<00:00,  4.85it/s]\n"
     ]
    },
    {
     "name": "stdout",
     "output_type": "stream",
     "text": [
      "52 \t test acc : 0.7771999835968018\n",
      "====================================================================================================\n",
      "lr : [1.0000000000000005e-09]\n"
     ]
    },
    {
     "name": "stderr",
     "output_type": "stream",
     "text": [
      "100%|██████████| 391/391 [03:27<00:00,  1.88it/s]\n",
      "100%|██████████| 79/79 [00:16<00:00,  4.88it/s]\n"
     ]
    },
    {
     "name": "stdout",
     "output_type": "stream",
     "text": [
      "53 \t test acc : 0.7773000001907349\n",
      "====================================================================================================\n",
      "lr : [1.0000000000000005e-09]\n"
     ]
    },
    {
     "name": "stderr",
     "output_type": "stream",
     "text": [
      "100%|██████████| 391/391 [03:27<00:00,  1.88it/s]\n",
      "100%|██████████| 79/79 [00:16<00:00,  4.88it/s]\n"
     ]
    },
    {
     "name": "stdout",
     "output_type": "stream",
     "text": [
      "54 \t test acc : 0.7773999571800232\n",
      "====================================================================================================\n",
      "lr : [1.0000000000000005e-09]\n"
     ]
    },
    {
     "name": "stderr",
     "output_type": "stream",
     "text": [
      "100%|██████████| 391/391 [03:27<00:00,  1.88it/s]\n",
      "100%|██████████| 79/79 [00:16<00:00,  4.88it/s]\n"
     ]
    },
    {
     "name": "stdout",
     "output_type": "stream",
     "text": [
      "55 \t test acc : 0.7771999835968018\n",
      "====================================================================================================\n",
      "lr : [1.0000000000000005e-09]\n"
     ]
    },
    {
     "name": "stderr",
     "output_type": "stream",
     "text": [
      "100%|██████████| 391/391 [03:27<00:00,  1.89it/s]\n",
      "100%|██████████| 79/79 [00:16<00:00,  4.89it/s]\n"
     ]
    },
    {
     "name": "stdout",
     "output_type": "stream",
     "text": [
      "56 \t test acc : 0.7773000001907349\n",
      "====================================================================================================\n",
      "lr : [1.0000000000000005e-09]\n"
     ]
    },
    {
     "name": "stderr",
     "output_type": "stream",
     "text": [
      "100%|██████████| 391/391 [03:27<00:00,  1.88it/s]\n",
      "100%|██████████| 79/79 [00:16<00:00,  4.88it/s]\n"
     ]
    },
    {
     "name": "stdout",
     "output_type": "stream",
     "text": [
      "57 \t test acc : 0.7773000001907349\n",
      "====================================================================================================\n",
      "lr : [1.0000000000000005e-09]\n"
     ]
    },
    {
     "name": "stderr",
     "output_type": "stream",
     "text": [
      "100%|██████████| 391/391 [03:27<00:00,  1.88it/s]\n",
      "100%|██████████| 79/79 [00:16<00:00,  4.89it/s]\n"
     ]
    },
    {
     "name": "stdout",
     "output_type": "stream",
     "text": [
      "58 \t test acc : 0.7771999835968018\n",
      "====================================================================================================\n",
      "lr : [1.0000000000000005e-09]\n"
     ]
    },
    {
     "name": "stderr",
     "output_type": "stream",
     "text": [
      "100%|██████████| 391/391 [03:27<00:00,  1.89it/s]\n",
      "100%|██████████| 79/79 [00:16<00:00,  4.88it/s]\n"
     ]
    },
    {
     "name": "stdout",
     "output_type": "stream",
     "text": [
      "59 \t test acc : 0.7773000001907349\n",
      "====================================================================================================\n",
      "lr : [1.0000000000000005e-09]\n"
     ]
    },
    {
     "name": "stderr",
     "output_type": "stream",
     "text": [
      "100%|██████████| 391/391 [03:27<00:00,  1.88it/s]\n",
      "100%|██████████| 79/79 [00:16<00:00,  4.88it/s]\n"
     ]
    },
    {
     "name": "stdout",
     "output_type": "stream",
     "text": [
      "60 \t test acc : 0.7773000001907349\n",
      "====================================================================================================\n",
      "lr : [1.0000000000000005e-09]\n"
     ]
    },
    {
     "name": "stderr",
     "output_type": "stream",
     "text": [
      "100%|██████████| 391/391 [03:27<00:00,  1.89it/s]\n",
      "100%|██████████| 79/79 [00:16<00:00,  4.89it/s]\n"
     ]
    },
    {
     "name": "stdout",
     "output_type": "stream",
     "text": [
      "61 \t test acc : 0.7771999835968018\n",
      "====================================================================================================\n",
      "lr : [1.0000000000000005e-09]\n"
     ]
    },
    {
     "name": "stderr",
     "output_type": "stream",
     "text": [
      "100%|██████████| 391/391 [03:27<00:00,  1.88it/s]\n",
      "100%|██████████| 79/79 [00:16<00:00,  4.88it/s]\n"
     ]
    },
    {
     "name": "stdout",
     "output_type": "stream",
     "text": [
      "62 \t test acc : 0.7771999835968018\n",
      "====================================================================================================\n",
      "lr : [1.0000000000000005e-09]\n"
     ]
    },
    {
     "name": "stderr",
     "output_type": "stream",
     "text": [
      "100%|██████████| 391/391 [03:27<00:00,  1.88it/s]\n",
      "100%|██████████| 79/79 [00:16<00:00,  4.87it/s]\n"
     ]
    },
    {
     "name": "stdout",
     "output_type": "stream",
     "text": [
      "63 \t test acc : 0.7770999670028687\n",
      "====================================================================================================\n",
      "lr : [1.0000000000000005e-09]\n"
     ]
    },
    {
     "name": "stderr",
     "output_type": "stream",
     "text": [
      "100%|██████████| 391/391 [03:27<00:00,  1.89it/s]\n",
      "100%|██████████| 79/79 [00:16<00:00,  4.87it/s]\n"
     ]
    },
    {
     "name": "stdout",
     "output_type": "stream",
     "text": [
      "64 \t test acc : 0.7771999835968018\n",
      "====================================================================================================\n",
      "lr : [1.0000000000000005e-09]\n"
     ]
    },
    {
     "name": "stderr",
     "output_type": "stream",
     "text": [
      "100%|██████████| 391/391 [03:27<00:00,  1.88it/s]\n",
      "100%|██████████| 79/79 [00:16<00:00,  4.86it/s]\n"
     ]
    },
    {
     "name": "stdout",
     "output_type": "stream",
     "text": [
      "65 \t test acc : 0.7771999835968018\n",
      "====================================================================================================\n",
      "lr : [1.0000000000000005e-09]\n"
     ]
    },
    {
     "name": "stderr",
     "output_type": "stream",
     "text": [
      "100%|██████████| 391/391 [03:27<00:00,  1.88it/s]\n",
      "100%|██████████| 79/79 [00:16<00:00,  4.88it/s]\n"
     ]
    },
    {
     "name": "stdout",
     "output_type": "stream",
     "text": [
      "66 \t test acc : 0.7773000001907349\n",
      "====================================================================================================\n",
      "lr : [1.0000000000000005e-09]\n"
     ]
    },
    {
     "name": "stderr",
     "output_type": "stream",
     "text": [
      "100%|██████████| 391/391 [03:27<00:00,  1.89it/s]\n",
      "100%|██████████| 79/79 [00:16<00:00,  4.87it/s]\n"
     ]
    },
    {
     "name": "stdout",
     "output_type": "stream",
     "text": [
      "67 \t test acc : 0.7771999835968018\n",
      "====================================================================================================\n",
      "lr : [1.0000000000000005e-09]\n"
     ]
    },
    {
     "name": "stderr",
     "output_type": "stream",
     "text": [
      "100%|██████████| 391/391 [03:27<00:00,  1.88it/s]\n",
      "100%|██████████| 79/79 [00:16<00:00,  4.88it/s]\n"
     ]
    },
    {
     "name": "stdout",
     "output_type": "stream",
     "text": [
      "68 \t test acc : 0.7773000001907349\n",
      "====================================================================================================\n",
      "lr : [1.0000000000000005e-09]\n"
     ]
    },
    {
     "name": "stderr",
     "output_type": "stream",
     "text": [
      "100%|██████████| 391/391 [03:27<00:00,  1.88it/s]\n",
      "100%|██████████| 79/79 [00:16<00:00,  4.88it/s]\n"
     ]
    },
    {
     "name": "stdout",
     "output_type": "stream",
     "text": [
      "69 \t test acc : 0.7771999835968018\n",
      "====================================================================================================\n",
      "lr : [1.0000000000000005e-09]\n"
     ]
    },
    {
     "name": "stderr",
     "output_type": "stream",
     "text": [
      "100%|██████████| 391/391 [03:27<00:00,  1.88it/s]\n",
      "100%|██████████| 79/79 [00:16<00:00,  4.87it/s]\n"
     ]
    },
    {
     "name": "stdout",
     "output_type": "stream",
     "text": [
      "70 \t test acc : 0.7773000001907349\n",
      "====================================================================================================\n",
      "lr : [1.0000000000000005e-09]\n"
     ]
    },
    {
     "name": "stderr",
     "output_type": "stream",
     "text": [
      "100%|██████████| 391/391 [03:27<00:00,  1.88it/s]\n",
      "100%|██████████| 79/79 [00:16<00:00,  4.87it/s]\n"
     ]
    },
    {
     "name": "stdout",
     "output_type": "stream",
     "text": [
      "71 \t test acc : 0.7771999835968018\n",
      "====================================================================================================\n",
      "lr : [1.0000000000000005e-09]\n"
     ]
    },
    {
     "name": "stderr",
     "output_type": "stream",
     "text": [
      "100%|██████████| 391/391 [03:27<00:00,  1.88it/s]\n",
      "100%|██████████| 79/79 [00:16<00:00,  4.88it/s]\n"
     ]
    },
    {
     "name": "stdout",
     "output_type": "stream",
     "text": [
      "72 \t test acc : 0.7771999835968018\n",
      "====================================================================================================\n",
      "lr : [1.0000000000000005e-09]\n"
     ]
    },
    {
     "name": "stderr",
     "output_type": "stream",
     "text": [
      "100%|██████████| 391/391 [03:27<00:00,  1.89it/s]\n",
      "100%|██████████| 79/79 [00:16<00:00,  4.88it/s]\n"
     ]
    },
    {
     "name": "stdout",
     "output_type": "stream",
     "text": [
      "73 \t test acc : 0.7773000001907349\n",
      "====================================================================================================\n",
      "lr : [1.0000000000000005e-09]\n"
     ]
    },
    {
     "name": "stderr",
     "output_type": "stream",
     "text": [
      "100%|██████████| 391/391 [03:27<00:00,  1.88it/s]\n",
      "100%|██████████| 79/79 [00:16<00:00,  4.87it/s]\n"
     ]
    },
    {
     "name": "stdout",
     "output_type": "stream",
     "text": [
      "74 \t test acc : 0.7773000001907349\n",
      "====================================================================================================\n",
      "lr : [1.0000000000000005e-09]\n"
     ]
    },
    {
     "name": "stderr",
     "output_type": "stream",
     "text": [
      "100%|██████████| 391/391 [03:27<00:00,  1.88it/s]\n",
      "100%|██████████| 79/79 [00:16<00:00,  4.85it/s]\n"
     ]
    },
    {
     "name": "stdout",
     "output_type": "stream",
     "text": [
      "75 \t test acc : 0.7773000001907349\n",
      "====================================================================================================\n",
      "lr : [1.0000000000000005e-09]\n"
     ]
    },
    {
     "name": "stderr",
     "output_type": "stream",
     "text": [
      "100%|██████████| 391/391 [03:27<00:00,  1.88it/s]\n",
      "100%|██████████| 79/79 [00:16<00:00,  4.89it/s]\n"
     ]
    },
    {
     "name": "stdout",
     "output_type": "stream",
     "text": [
      "76 \t test acc : 0.7773999571800232\n",
      "====================================================================================================\n",
      "lr : [1.0000000000000005e-09]\n"
     ]
    },
    {
     "name": "stderr",
     "output_type": "stream",
     "text": [
      "100%|██████████| 391/391 [03:27<00:00,  1.88it/s]\n",
      "100%|██████████| 79/79 [00:16<00:00,  4.87it/s]\n"
     ]
    },
    {
     "name": "stdout",
     "output_type": "stream",
     "text": [
      "77 \t test acc : 0.7773000001907349\n",
      "====================================================================================================\n",
      "lr : [1.0000000000000005e-09]\n"
     ]
    },
    {
     "name": "stderr",
     "output_type": "stream",
     "text": [
      "100%|██████████| 391/391 [03:27<00:00,  1.88it/s]\n",
      "100%|██████████| 79/79 [00:16<00:00,  4.88it/s]\n"
     ]
    },
    {
     "name": "stdout",
     "output_type": "stream",
     "text": [
      "78 \t test acc : 0.7773000001907349\n",
      "====================================================================================================\n",
      "lr : [1.0000000000000005e-09]\n"
     ]
    },
    {
     "name": "stderr",
     "output_type": "stream",
     "text": [
      "100%|██████████| 391/391 [03:27<00:00,  1.88it/s]\n",
      "100%|██████████| 79/79 [00:16<00:00,  4.87it/s]\n"
     ]
    },
    {
     "name": "stdout",
     "output_type": "stream",
     "text": [
      "79 \t test acc : 0.7773999571800232\n",
      "====================================================================================================\n",
      "lr : [1.0000000000000005e-09]\n"
     ]
    },
    {
     "name": "stderr",
     "output_type": "stream",
     "text": [
      "100%|██████████| 391/391 [03:27<00:00,  1.88it/s]\n",
      "100%|██████████| 79/79 [00:16<00:00,  4.86it/s]\n"
     ]
    },
    {
     "name": "stdout",
     "output_type": "stream",
     "text": [
      "80 \t test acc : 0.7773999571800232\n",
      "====================================================================================================\n",
      "lr : [1.0000000000000005e-09]\n"
     ]
    },
    {
     "name": "stderr",
     "output_type": "stream",
     "text": [
      "100%|██████████| 391/391 [03:27<00:00,  1.88it/s]\n",
      "100%|██████████| 79/79 [00:16<00:00,  4.88it/s]\n"
     ]
    },
    {
     "name": "stdout",
     "output_type": "stream",
     "text": [
      "81 \t test acc : 0.7771999835968018\n",
      "====================================================================================================\n",
      "lr : [1.0000000000000005e-09]\n"
     ]
    },
    {
     "name": "stderr",
     "output_type": "stream",
     "text": [
      "100%|██████████| 391/391 [03:27<00:00,  1.89it/s]\n",
      "100%|██████████| 79/79 [00:16<00:00,  4.85it/s]\n"
     ]
    },
    {
     "name": "stdout",
     "output_type": "stream",
     "text": [
      "82 \t test acc : 0.7773999571800232\n",
      "====================================================================================================\n",
      "lr : [1.0000000000000005e-09]\n"
     ]
    },
    {
     "name": "stderr",
     "output_type": "stream",
     "text": [
      "100%|██████████| 391/391 [03:27<00:00,  1.88it/s]\n",
      "100%|██████████| 79/79 [00:16<00:00,  4.87it/s]\n"
     ]
    },
    {
     "name": "stdout",
     "output_type": "stream",
     "text": [
      "83 \t test acc : 0.7773999571800232\n",
      "====================================================================================================\n",
      "lr : [1.0000000000000005e-09]\n"
     ]
    },
    {
     "name": "stderr",
     "output_type": "stream",
     "text": [
      "100%|██████████| 391/391 [03:27<00:00,  1.88it/s]\n",
      "100%|██████████| 79/79 [00:16<00:00,  4.88it/s]\n"
     ]
    },
    {
     "name": "stdout",
     "output_type": "stream",
     "text": [
      "84 \t test acc : 0.7773000001907349\n",
      "====================================================================================================\n",
      "lr : [1.0000000000000005e-09]\n"
     ]
    },
    {
     "name": "stderr",
     "output_type": "stream",
     "text": [
      "100%|██████████| 391/391 [03:27<00:00,  1.88it/s]\n",
      "100%|██████████| 79/79 [00:16<00:00,  4.87it/s]\n"
     ]
    },
    {
     "name": "stdout",
     "output_type": "stream",
     "text": [
      "85 \t test acc : 0.7773000001907349\n",
      "====================================================================================================\n",
      "lr : [1.0000000000000005e-09]\n"
     ]
    },
    {
     "name": "stderr",
     "output_type": "stream",
     "text": [
      "100%|██████████| 391/391 [03:27<00:00,  1.88it/s]\n",
      "100%|██████████| 79/79 [00:16<00:00,  4.89it/s]\n"
     ]
    },
    {
     "name": "stdout",
     "output_type": "stream",
     "text": [
      "86 \t test acc : 0.7773000001907349\n",
      "====================================================================================================\n",
      "lr : [1.0000000000000005e-09]\n"
     ]
    },
    {
     "name": "stderr",
     "output_type": "stream",
     "text": [
      "100%|██████████| 391/391 [03:27<00:00,  1.88it/s]\n",
      "100%|██████████| 79/79 [00:16<00:00,  4.86it/s]\n"
     ]
    },
    {
     "name": "stdout",
     "output_type": "stream",
     "text": [
      "87 \t test acc : 0.7771999835968018\n",
      "====================================================================================================\n",
      "lr : [1.0000000000000005e-09]\n"
     ]
    },
    {
     "name": "stderr",
     "output_type": "stream",
     "text": [
      "100%|██████████| 391/391 [03:27<00:00,  1.88it/s]\n",
      "100%|██████████| 79/79 [00:16<00:00,  4.89it/s]\n"
     ]
    },
    {
     "name": "stdout",
     "output_type": "stream",
     "text": [
      "88 \t test acc : 0.7773000001907349\n",
      "====================================================================================================\n",
      "lr : [1.0000000000000005e-09]\n"
     ]
    },
    {
     "name": "stderr",
     "output_type": "stream",
     "text": [
      "100%|██████████| 391/391 [03:27<00:00,  1.88it/s]\n",
      "100%|██████████| 79/79 [00:16<00:00,  4.87it/s]\n"
     ]
    },
    {
     "name": "stdout",
     "output_type": "stream",
     "text": [
      "89 \t test acc : 0.7771999835968018\n",
      "====================================================================================================\n",
      "lr : [1.0000000000000005e-09]\n"
     ]
    },
    {
     "name": "stderr",
     "output_type": "stream",
     "text": [
      "100%|██████████| 391/391 [03:27<00:00,  1.88it/s]\n",
      "100%|██████████| 79/79 [00:16<00:00,  4.87it/s]\n"
     ]
    },
    {
     "name": "stdout",
     "output_type": "stream",
     "text": [
      "90 \t test acc : 0.7771999835968018\n",
      "====================================================================================================\n",
      "lr : [1.0000000000000005e-09]\n"
     ]
    },
    {
     "name": "stderr",
     "output_type": "stream",
     "text": [
      "100%|██████████| 391/391 [03:27<00:00,  1.88it/s]\n",
      "100%|██████████| 79/79 [00:16<00:00,  4.89it/s]\n"
     ]
    },
    {
     "name": "stdout",
     "output_type": "stream",
     "text": [
      "91 \t test acc : 0.7771999835968018\n",
      "====================================================================================================\n",
      "lr : [1.0000000000000005e-09]\n"
     ]
    },
    {
     "name": "stderr",
     "output_type": "stream",
     "text": [
      "100%|██████████| 391/391 [03:27<00:00,  1.88it/s]\n",
      "100%|██████████| 79/79 [00:16<00:00,  4.88it/s]\n"
     ]
    },
    {
     "name": "stdout",
     "output_type": "stream",
     "text": [
      "92 \t test acc : 0.7771999835968018\n",
      "====================================================================================================\n",
      "lr : [1.0000000000000005e-09]\n"
     ]
    },
    {
     "name": "stderr",
     "output_type": "stream",
     "text": [
      "100%|██████████| 391/391 [03:27<00:00,  1.88it/s]\n",
      "100%|██████████| 79/79 [00:16<00:00,  4.87it/s]\n"
     ]
    },
    {
     "name": "stdout",
     "output_type": "stream",
     "text": [
      "93 \t test acc : 0.7771999835968018\n",
      "====================================================================================================\n",
      "lr : [1.0000000000000005e-09]\n"
     ]
    },
    {
     "name": "stderr",
     "output_type": "stream",
     "text": [
      "100%|██████████| 391/391 [03:27<00:00,  1.88it/s]\n",
      "100%|██████████| 79/79 [00:16<00:00,  4.87it/s]\n"
     ]
    },
    {
     "name": "stdout",
     "output_type": "stream",
     "text": [
      "94 \t test acc : 0.7771999835968018\n",
      "====================================================================================================\n",
      "lr : [1.0000000000000005e-09]\n"
     ]
    },
    {
     "name": "stderr",
     "output_type": "stream",
     "text": [
      "100%|██████████| 391/391 [03:27<00:00,  1.88it/s]\n",
      "100%|██████████| 79/79 [00:16<00:00,  4.87it/s]\n"
     ]
    },
    {
     "name": "stdout",
     "output_type": "stream",
     "text": [
      "95 \t test acc : 0.7773999571800232\n",
      "====================================================================================================\n",
      "lr : [1.0000000000000005e-09]\n"
     ]
    },
    {
     "name": "stderr",
     "output_type": "stream",
     "text": [
      "100%|██████████| 391/391 [03:27<00:00,  1.88it/s]\n",
      "100%|██████████| 79/79 [00:16<00:00,  4.87it/s]\n"
     ]
    },
    {
     "name": "stdout",
     "output_type": "stream",
     "text": [
      "96 \t test acc : 0.7771999835968018\n",
      "====================================================================================================\n",
      "lr : [1.0000000000000005e-09]\n"
     ]
    },
    {
     "name": "stderr",
     "output_type": "stream",
     "text": [
      "100%|██████████| 391/391 [03:27<00:00,  1.88it/s]\n",
      "100%|██████████| 79/79 [00:16<00:00,  4.89it/s]\n"
     ]
    },
    {
     "name": "stdout",
     "output_type": "stream",
     "text": [
      "97 \t test acc : 0.7771999835968018\n",
      "====================================================================================================\n",
      "lr : [1.0000000000000005e-09]\n"
     ]
    },
    {
     "name": "stderr",
     "output_type": "stream",
     "text": [
      "100%|██████████| 391/391 [03:27<00:00,  1.88it/s]\n",
      "100%|██████████| 79/79 [00:16<00:00,  4.88it/s]\n"
     ]
    },
    {
     "name": "stdout",
     "output_type": "stream",
     "text": [
      "98 \t test acc : 0.7771999835968018\n",
      "====================================================================================================\n",
      "lr : [1.0000000000000005e-09]\n"
     ]
    },
    {
     "name": "stderr",
     "output_type": "stream",
     "text": [
      "100%|██████████| 391/391 [03:27<00:00,  1.88it/s]\n",
      "100%|██████████| 79/79 [00:16<00:00,  4.87it/s]"
     ]
    },
    {
     "name": "stdout",
     "output_type": "stream",
     "text": [
      "99 \t test acc : 0.7771999835968018\n",
      "====================================================================================================\n"
     ]
    },
    {
     "name": "stderr",
     "output_type": "stream",
     "text": [
      "\n"
     ]
    }
   ],
   "source": [
    "\n",
    "\n",
    "if not use_trained_model:\n",
    "    criterion_onlylabel = lambda a,b : mse(a*b, b)\n",
    "    best_acc = 0.0\n",
    "    stack = 0 \n",
    "    criterion_CE = nn.CrossEntropyLoss()\n",
    "    mse = nn.MSELoss()\n",
    "    softmax = torch.nn.Softmax(dim = 1)\n",
    "    criterion_KLD = torch.nn.KLDivLoss(reduction=\"batchmean\")\n",
    "    criterion_response = lambda a,b : criterion_KLD(torch.log_softmax(a, dim=1),torch.softmax(b, dim=1))\n",
    "\n",
    "\n",
    "\n",
    "\n",
    "    torch.manual_seed(0)\n",
    "    torch.cuda.manual_seed(0)\n",
    "    torch.cuda.manual_seed_all(0)\n",
    "    np.random.seed(0)\n",
    "    cudnn.benchmark = False\n",
    "    cudnn.deterministic = True\n",
    "    random.seed(0)\n",
    "\n",
    "\n",
    "    for epoch in range(100):\n",
    "        print(f\"lr : {S_scheduler.get_last_lr()}\")\n",
    "        T_correct = 0\n",
    "        S_correct = 0\n",
    "        all_data = 0\n",
    "\n",
    "        loss_distill = []\n",
    "        loss_CE = []\n",
    "        loss_response = []\n",
    "        student = student.train()\n",
    "        for img, label in tqdm(train_loader):\n",
    "            img = img.cuda()\n",
    "            label = label.cuda()\n",
    "\n",
    "            T_optimizer.zero_grad()\n",
    "            output, _ = teacher(img, 0)\n",
    "\n",
    "#             output = softmax(output)\n",
    "            loss = criterion_CE(output, label)\n",
    "            loss.backward()\n",
    "            T_optimizer.step()\n",
    "            \n",
    "        T_scheduler.step()\n",
    "        test_acc = utils.test(teacher, val_loader, epoch)\n",
    "\n",
    "\n",
    "        if test_acc > best_acc:\n",
    "            stack = 0\n",
    "            best_acc = test_acc\n",
    "        else:\n",
    "            stack+=1\n",
    "        past_acc = test_acc\n",
    "\n",
    "        if stack > 5:\n",
    "            S_scheduler.step()\n",
    "            stack = 0\n",
    "\n",
    "        print(\"=\" * 100)        "
   ]
  },
  {
   "cell_type": "code",
   "execution_count": 4,
   "id": "8cfeb87c",
   "metadata": {
    "ExecuteTime": {
     "end_time": "2022-06-27T02:58:45.142342Z",
     "start_time": "2022-06-27T02:58:29.012226Z"
    }
   },
   "outputs": [
    {
     "name": "stderr",
     "output_type": "stream",
     "text": [
      "100%|██████████| 79/79 [00:16<00:00,  4.91it/s]"
     ]
    },
    {
     "name": "stdout",
     "output_type": "stream",
     "text": [
      "0 \t test acc : 0.7110999822616577\n"
     ]
    },
    {
     "name": "stderr",
     "output_type": "stream",
     "text": [
      "\n"
     ]
    },
    {
     "data": {
      "text/plain": [
       "tensor(0.7111, device='cuda:0')"
      ]
     },
     "execution_count": 4,
     "metadata": {},
     "output_type": "execute_result"
    }
   ],
   "source": [
    "utils.test(teacher, val_loader)"
   ]
  },
  {
   "cell_type": "code",
   "execution_count": 5,
   "id": "cef740f7",
   "metadata": {
    "ExecuteTime": {
     "end_time": "2022-06-27T16:19:49.058926Z",
     "start_time": "2022-06-27T02:58:45.145054Z"
    }
   },
   "outputs": [
    {
     "name": "stdout",
     "output_type": "stream",
     "text": [
      "lr : [0.01]\n"
     ]
    },
    {
     "name": "stderr",
     "output_type": "stream",
     "text": [
      "100%|██████████| 391/391 [09:07<00:00,  1.40s/it]\n"
     ]
    },
    {
     "name": "stdout",
     "output_type": "stream",
     "text": [
      "distill loss :  0.2791871545107468\n",
      "general loss :  1.9853936442938607\n",
      "Teacher acc: 0.5732799768447876\n",
      "Student acc: 0.5217800140380859\n"
     ]
    },
    {
     "name": "stderr",
     "output_type": "stream",
     "text": [
      "100%|██████████| 79/79 [00:16<00:00,  4.90it/s]\n"
     ]
    },
    {
     "name": "stdout",
     "output_type": "stream",
     "text": [
      "0 \t test acc : 0.796999990940094\n"
     ]
    },
    {
     "name": "stderr",
     "output_type": "stream",
     "text": [
      "100%|██████████| 79/79 [00:16<00:00,  4.90it/s]\n"
     ]
    },
    {
     "name": "stdout",
     "output_type": "stream",
     "text": [
      "0 \t test acc : 0.7110999822616577\n",
      "====================================================================================================\n",
      "lr : [0.01]\n"
     ]
    },
    {
     "name": "stderr",
     "output_type": "stream",
     "text": [
      "100%|██████████| 391/391 [09:11<00:00,  1.41s/it]\n"
     ]
    },
    {
     "name": "stdout",
     "output_type": "stream",
     "text": [
      "distill loss :  0.2587928894306997\n",
      "general loss :  1.1723008570463762\n",
      "Teacher acc: 0.574999988079071\n",
      "Student acc: 0.6806399822235107\n"
     ]
    },
    {
     "name": "stderr",
     "output_type": "stream",
     "text": [
      "100%|██████████| 79/79 [00:16<00:00,  4.87it/s]\n"
     ]
    },
    {
     "name": "stdout",
     "output_type": "stream",
     "text": [
      "1 \t test acc : 0.8190000057220459\n"
     ]
    },
    {
     "name": "stderr",
     "output_type": "stream",
     "text": [
      "100%|██████████| 79/79 [00:16<00:00,  4.88it/s]\n"
     ]
    },
    {
     "name": "stdout",
     "output_type": "stream",
     "text": [
      "1 \t test acc : 0.7110999822616577\n",
      "====================================================================================================\n",
      "lr : [0.01]\n"
     ]
    },
    {
     "name": "stderr",
     "output_type": "stream",
     "text": [
      "100%|██████████| 391/391 [09:10<00:00,  1.41s/it]\n"
     ]
    },
    {
     "name": "stdout",
     "output_type": "stream",
     "text": [
      "distill loss :  0.23086316939776816\n",
      "general loss :  0.9988112303302111\n",
      "Teacher acc: 0.570360004901886\n",
      "Student acc: 0.7262199521064758\n"
     ]
    },
    {
     "name": "stderr",
     "output_type": "stream",
     "text": [
      "100%|██████████| 79/79 [00:16<00:00,  4.89it/s]\n"
     ]
    },
    {
     "name": "stdout",
     "output_type": "stream",
     "text": [
      "2 \t test acc : 0.8448999524116516\n"
     ]
    },
    {
     "name": "stderr",
     "output_type": "stream",
     "text": [
      "100%|██████████| 79/79 [00:16<00:00,  4.89it/s]\n"
     ]
    },
    {
     "name": "stdout",
     "output_type": "stream",
     "text": [
      "2 \t test acc : 0.7110999822616577\n",
      "====================================================================================================\n",
      "lr : [0.01]\n"
     ]
    },
    {
     "name": "stderr",
     "output_type": "stream",
     "text": [
      "100%|██████████| 391/391 [09:10<00:00,  1.41s/it]\n"
     ]
    },
    {
     "name": "stdout",
     "output_type": "stream",
     "text": [
      "distill loss :  0.22888771772308422\n",
      "general loss :  0.9020073906235073\n",
      "Teacher acc: 0.5747399926185608\n",
      "Student acc: 0.7513399720191956\n"
     ]
    },
    {
     "name": "stderr",
     "output_type": "stream",
     "text": [
      "100%|██████████| 79/79 [00:16<00:00,  4.84it/s]\n"
     ]
    },
    {
     "name": "stdout",
     "output_type": "stream",
     "text": [
      "3 \t test acc : 0.843999981880188\n"
     ]
    },
    {
     "name": "stderr",
     "output_type": "stream",
     "text": [
      "100%|██████████| 79/79 [00:16<00:00,  4.87it/s]\n"
     ]
    },
    {
     "name": "stdout",
     "output_type": "stream",
     "text": [
      "3 \t test acc : 0.7110999822616577\n",
      "====================================================================================================\n",
      "lr : [0.01]\n"
     ]
    },
    {
     "name": "stderr",
     "output_type": "stream",
     "text": [
      "100%|██████████| 391/391 [09:08<00:00,  1.40s/it]\n"
     ]
    },
    {
     "name": "stdout",
     "output_type": "stream",
     "text": [
      "distill loss :  0.21709994659246995\n",
      "general loss :  0.84144124609735\n",
      "Teacher acc: 0.5732399821281433\n",
      "Student acc: 0.7674799561500549\n"
     ]
    },
    {
     "name": "stderr",
     "output_type": "stream",
     "text": [
      "100%|██████████| 79/79 [00:16<00:00,  4.86it/s]\n"
     ]
    },
    {
     "name": "stdout",
     "output_type": "stream",
     "text": [
      "4 \t test acc : 0.8513999581336975\n"
     ]
    },
    {
     "name": "stderr",
     "output_type": "stream",
     "text": [
      "100%|██████████| 79/79 [00:16<00:00,  4.87it/s]\n"
     ]
    },
    {
     "name": "stdout",
     "output_type": "stream",
     "text": [
      "4 \t test acc : 0.7110999822616577\n",
      "====================================================================================================\n",
      "lr : [0.01]\n"
     ]
    },
    {
     "name": "stderr",
     "output_type": "stream",
     "text": [
      "100%|██████████| 391/391 [09:10<00:00,  1.41s/it]\n"
     ]
    },
    {
     "name": "stdout",
     "output_type": "stream",
     "text": [
      "distill loss :  0.21088632300038776\n",
      "general loss :  0.7746223479585574\n",
      "Teacher acc: 0.573199987411499\n",
      "Student acc: 0.7830199599266052\n"
     ]
    },
    {
     "name": "stderr",
     "output_type": "stream",
     "text": [
      "100%|██████████| 79/79 [00:16<00:00,  4.90it/s]\n"
     ]
    },
    {
     "name": "stdout",
     "output_type": "stream",
     "text": [
      "5 \t test acc : 0.8611999750137329\n"
     ]
    },
    {
     "name": "stderr",
     "output_type": "stream",
     "text": [
      "100%|██████████| 79/79 [00:16<00:00,  4.91it/s]\n"
     ]
    },
    {
     "name": "stdout",
     "output_type": "stream",
     "text": [
      "5 \t test acc : 0.7110999822616577\n",
      "====================================================================================================\n",
      "lr : [0.01]\n"
     ]
    },
    {
     "name": "stderr",
     "output_type": "stream",
     "text": [
      "100%|██████████| 391/391 [09:10<00:00,  1.41s/it]\n"
     ]
    },
    {
     "name": "stdout",
     "output_type": "stream",
     "text": [
      "distill loss :  0.2167472858410662\n",
      "general loss :  0.7404265484541578\n",
      "Teacher acc: 0.5740199685096741\n",
      "Student acc: 0.7953799962997437\n"
     ]
    },
    {
     "name": "stderr",
     "output_type": "stream",
     "text": [
      "100%|██████████| 79/79 [00:16<00:00,  4.89it/s]\n"
     ]
    },
    {
     "name": "stdout",
     "output_type": "stream",
     "text": [
      "6 \t test acc : 0.8592000007629395\n"
     ]
    },
    {
     "name": "stderr",
     "output_type": "stream",
     "text": [
      "100%|██████████| 79/79 [00:16<00:00,  4.88it/s]\n"
     ]
    },
    {
     "name": "stdout",
     "output_type": "stream",
     "text": [
      "6 \t test acc : 0.7110999822616577\n",
      "====================================================================================================\n",
      "lr : [0.01]\n"
     ]
    },
    {
     "name": "stderr",
     "output_type": "stream",
     "text": [
      "100%|██████████| 391/391 [09:10<00:00,  1.41s/it]\n"
     ]
    },
    {
     "name": "stdout",
     "output_type": "stream",
     "text": [
      "distill loss :  0.21336919223637227\n",
      "general loss :  0.6863094514135815\n",
      "Teacher acc: 0.5758399963378906\n",
      "Student acc: 0.8079800009727478\n"
     ]
    },
    {
     "name": "stderr",
     "output_type": "stream",
     "text": [
      "100%|██████████| 79/79 [00:16<00:00,  4.88it/s]\n"
     ]
    },
    {
     "name": "stdout",
     "output_type": "stream",
     "text": [
      "7 \t test acc : 0.8570999503135681\n"
     ]
    },
    {
     "name": "stderr",
     "output_type": "stream",
     "text": [
      "100%|██████████| 79/79 [00:16<00:00,  4.89it/s]\n"
     ]
    },
    {
     "name": "stdout",
     "output_type": "stream",
     "text": [
      "7 \t test acc : 0.7110999822616577\n",
      "====================================================================================================\n",
      "lr : [0.01]\n"
     ]
    },
    {
     "name": "stderr",
     "output_type": "stream",
     "text": [
      "100%|██████████| 391/391 [09:10<00:00,  1.41s/it]\n"
     ]
    },
    {
     "name": "stdout",
     "output_type": "stream",
     "text": [
      "distill loss :  0.2118691765629422\n",
      "general loss :  0.6582499099966815\n",
      "Teacher acc: 0.5755800008773804\n",
      "Student acc: 0.8161799907684326\n"
     ]
    },
    {
     "name": "stderr",
     "output_type": "stream",
     "text": [
      "100%|██████████| 79/79 [00:16<00:00,  4.87it/s]\n"
     ]
    },
    {
     "name": "stdout",
     "output_type": "stream",
     "text": [
      "8 \t test acc : 0.8671000003814697\n"
     ]
    },
    {
     "name": "stderr",
     "output_type": "stream",
     "text": [
      "100%|██████████| 79/79 [00:16<00:00,  4.86it/s]\n"
     ]
    },
    {
     "name": "stdout",
     "output_type": "stream",
     "text": [
      "8 \t test acc : 0.7110999822616577\n",
      "====================================================================================================\n",
      "lr : [0.01]\n"
     ]
    },
    {
     "name": "stderr",
     "output_type": "stream",
     "text": [
      "100%|██████████| 391/391 [09:11<00:00,  1.41s/it]\n"
     ]
    },
    {
     "name": "stdout",
     "output_type": "stream",
     "text": [
      "distill loss :  0.2043076970750261\n",
      "general loss :  0.6256764249880905\n",
      "Teacher acc: 0.5733399987220764\n",
      "Student acc: 0.8267799615859985\n"
     ]
    },
    {
     "name": "stderr",
     "output_type": "stream",
     "text": [
      "100%|██████████| 79/79 [00:16<00:00,  4.85it/s]\n"
     ]
    },
    {
     "name": "stdout",
     "output_type": "stream",
     "text": [
      "9 \t test acc : 0.8623999953269958\n"
     ]
    },
    {
     "name": "stderr",
     "output_type": "stream",
     "text": [
      "100%|██████████| 79/79 [00:16<00:00,  4.86it/s]\n"
     ]
    },
    {
     "name": "stdout",
     "output_type": "stream",
     "text": [
      "9 \t test acc : 0.7110999822616577\n",
      "====================================================================================================\n",
      "lr : [0.01]\n"
     ]
    },
    {
     "name": "stderr",
     "output_type": "stream",
     "text": [
      "100%|██████████| 391/391 [09:13<00:00,  1.41s/it]\n"
     ]
    },
    {
     "name": "stdout",
     "output_type": "stream",
     "text": [
      "distill loss :  0.21551310827436349\n",
      "general loss :  0.6115903490034821\n",
      "Teacher acc: 0.5699999928474426\n",
      "Student acc: 0.8310799598693848\n"
     ]
    },
    {
     "name": "stderr",
     "output_type": "stream",
     "text": [
      "100%|██████████| 79/79 [00:16<00:00,  4.86it/s]\n"
     ]
    },
    {
     "name": "stdout",
     "output_type": "stream",
     "text": [
      "10 \t test acc : 0.8673999905586243\n"
     ]
    },
    {
     "name": "stderr",
     "output_type": "stream",
     "text": [
      "100%|██████████| 79/79 [00:16<00:00,  4.86it/s]\n"
     ]
    },
    {
     "name": "stdout",
     "output_type": "stream",
     "text": [
      "10 \t test acc : 0.7110999822616577\n",
      "====================================================================================================\n",
      "lr : [0.01]\n"
     ]
    },
    {
     "name": "stderr",
     "output_type": "stream",
     "text": [
      "100%|██████████| 391/391 [09:16<00:00,  1.42s/it]\n"
     ]
    },
    {
     "name": "stdout",
     "output_type": "stream",
     "text": [
      "distill loss :  0.21621162094690305\n",
      "general loss :  0.5898118304931904\n",
      "Teacher acc: 0.5728999972343445\n",
      "Student acc: 0.8352999687194824\n"
     ]
    },
    {
     "name": "stderr",
     "output_type": "stream",
     "text": [
      "100%|██████████| 79/79 [00:16<00:00,  4.87it/s]\n"
     ]
    },
    {
     "name": "stdout",
     "output_type": "stream",
     "text": [
      "11 \t test acc : 0.8725999593734741\n"
     ]
    },
    {
     "name": "stderr",
     "output_type": "stream",
     "text": [
      "100%|██████████| 79/79 [00:16<00:00,  4.91it/s]\n"
     ]
    },
    {
     "name": "stdout",
     "output_type": "stream",
     "text": [
      "11 \t test acc : 0.7110999822616577\n",
      "====================================================================================================\n",
      "lr : [0.01]\n"
     ]
    },
    {
     "name": "stderr",
     "output_type": "stream",
     "text": [
      "100%|██████████| 391/391 [09:10<00:00,  1.41s/it]\n"
     ]
    },
    {
     "name": "stdout",
     "output_type": "stream",
     "text": [
      "distill loss :  0.19831636242206443\n",
      "general loss :  0.56981111761859\n",
      "Teacher acc: 0.5725199580192566\n",
      "Student acc: 0.8426399827003479\n"
     ]
    },
    {
     "name": "stderr",
     "output_type": "stream",
     "text": [
      "100%|██████████| 79/79 [00:16<00:00,  4.85it/s]\n"
     ]
    },
    {
     "name": "stdout",
     "output_type": "stream",
     "text": [
      "12 \t test acc : 0.8661999702453613\n"
     ]
    },
    {
     "name": "stderr",
     "output_type": "stream",
     "text": [
      "100%|██████████| 79/79 [00:16<00:00,  4.80it/s]\n"
     ]
    },
    {
     "name": "stdout",
     "output_type": "stream",
     "text": [
      "12 \t test acc : 0.7110999822616577\n",
      "====================================================================================================\n",
      "lr : [0.01]\n"
     ]
    },
    {
     "name": "stderr",
     "output_type": "stream",
     "text": [
      "100%|██████████| 391/391 [09:07<00:00,  1.40s/it]\n"
     ]
    },
    {
     "name": "stdout",
     "output_type": "stream",
     "text": [
      "distill loss :  0.19100781327204022\n",
      "general loss :  0.5465096454791096\n",
      "Teacher acc: 0.5719599723815918\n",
      "Student acc: 0.8497999906539917\n"
     ]
    },
    {
     "name": "stderr",
     "output_type": "stream",
     "text": [
      "100%|██████████| 79/79 [00:16<00:00,  4.82it/s]\n"
     ]
    },
    {
     "name": "stdout",
     "output_type": "stream",
     "text": [
      "13 \t test acc : 0.8693000078201294\n"
     ]
    },
    {
     "name": "stderr",
     "output_type": "stream",
     "text": [
      "100%|██████████| 79/79 [00:16<00:00,  4.83it/s]\n"
     ]
    },
    {
     "name": "stdout",
     "output_type": "stream",
     "text": [
      "13 \t test acc : 0.7110999822616577\n",
      "====================================================================================================\n",
      "lr : [0.01]\n"
     ]
    },
    {
     "name": "stderr",
     "output_type": "stream",
     "text": [
      "100%|██████████| 391/391 [09:09<00:00,  1.41s/it]\n"
     ]
    },
    {
     "name": "stdout",
     "output_type": "stream",
     "text": [
      "distill loss :  0.19582368168608308\n",
      "general loss :  0.5245184423521047\n",
      "Teacher acc: 0.5735399723052979\n",
      "Student acc: 0.8559199571609497\n"
     ]
    },
    {
     "name": "stderr",
     "output_type": "stream",
     "text": [
      "100%|██████████| 79/79 [00:16<00:00,  4.86it/s]\n"
     ]
    },
    {
     "name": "stdout",
     "output_type": "stream",
     "text": [
      "14 \t test acc : 0.8711999654769897\n"
     ]
    },
    {
     "name": "stderr",
     "output_type": "stream",
     "text": [
      "100%|██████████| 79/79 [00:16<00:00,  4.86it/s]\n"
     ]
    },
    {
     "name": "stdout",
     "output_type": "stream",
     "text": [
      "14 \t test acc : 0.7110999822616577\n",
      "====================================================================================================\n",
      "lr : [0.01]\n"
     ]
    },
    {
     "name": "stderr",
     "output_type": "stream",
     "text": [
      "100%|██████████| 391/391 [09:12<00:00,  1.41s/it]\n"
     ]
    },
    {
     "name": "stdout",
     "output_type": "stream",
     "text": [
      "distill loss :  0.1995292913235362\n",
      "general loss :  0.5097843849140665\n",
      "Teacher acc: 0.5777400135993958\n",
      "Student acc: 0.8604599833488464\n"
     ]
    },
    {
     "name": "stderr",
     "output_type": "stream",
     "text": [
      "100%|██████████| 79/79 [00:16<00:00,  4.88it/s]\n"
     ]
    },
    {
     "name": "stdout",
     "output_type": "stream",
     "text": [
      "15 \t test acc : 0.865399956703186\n"
     ]
    },
    {
     "name": "stderr",
     "output_type": "stream",
     "text": [
      "100%|██████████| 79/79 [00:16<00:00,  4.86it/s]\n"
     ]
    },
    {
     "name": "stdout",
     "output_type": "stream",
     "text": [
      "15 \t test acc : 0.7110999822616577\n",
      "====================================================================================================\n",
      "lr : [0.01]\n"
     ]
    },
    {
     "name": "stderr",
     "output_type": "stream",
     "text": [
      "100%|██████████| 391/391 [09:08<00:00,  1.40s/it]\n"
     ]
    },
    {
     "name": "stdout",
     "output_type": "stream",
     "text": [
      "distill loss :  0.18783534421106737\n",
      "general loss :  0.49779722307953994\n",
      "Teacher acc: 0.5717799663543701\n",
      "Student acc: 0.8645199537277222\n"
     ]
    },
    {
     "name": "stderr",
     "output_type": "stream",
     "text": [
      "100%|██████████| 79/79 [00:16<00:00,  4.79it/s]\n"
     ]
    },
    {
     "name": "stdout",
     "output_type": "stream",
     "text": [
      "16 \t test acc : 0.8643999695777893\n"
     ]
    },
    {
     "name": "stderr",
     "output_type": "stream",
     "text": [
      "100%|██████████| 79/79 [00:16<00:00,  4.83it/s]\n"
     ]
    },
    {
     "name": "stdout",
     "output_type": "stream",
     "text": [
      "16 \t test acc : 0.7110999822616577\n",
      "====================================================================================================\n",
      "lr : [0.001]\n"
     ]
    },
    {
     "name": "stderr",
     "output_type": "stream",
     "text": [
      "100%|██████████| 391/391 [09:11<00:00,  1.41s/it]\n"
     ]
    },
    {
     "name": "stdout",
     "output_type": "stream",
     "text": [
      "distill loss :  0.1829110577826381\n",
      "general loss :  0.43408583897306485\n",
      "Teacher acc: 0.5723999738693237\n",
      "Student acc: 0.8817399740219116\n"
     ]
    },
    {
     "name": "stderr",
     "output_type": "stream",
     "text": [
      "100%|██████████| 79/79 [00:16<00:00,  4.83it/s]\n"
     ]
    },
    {
     "name": "stdout",
     "output_type": "stream",
     "text": [
      "17 \t test acc : 0.8811999559402466\n"
     ]
    },
    {
     "name": "stderr",
     "output_type": "stream",
     "text": [
      "100%|██████████| 79/79 [00:16<00:00,  4.88it/s]\n"
     ]
    },
    {
     "name": "stdout",
     "output_type": "stream",
     "text": [
      "17 \t test acc : 0.7110999822616577\n",
      "====================================================================================================\n",
      "lr : [0.001]\n"
     ]
    },
    {
     "name": "stderr",
     "output_type": "stream",
     "text": [
      "100%|██████████| 391/391 [09:11<00:00,  1.41s/it]\n"
     ]
    },
    {
     "name": "stdout",
     "output_type": "stream",
     "text": [
      "distill loss :  0.1803018406052571\n",
      "general loss :  0.40732614535962225\n",
      "Teacher acc: 0.5715799927711487\n",
      "Student acc: 0.8900399804115295\n"
     ]
    },
    {
     "name": "stderr",
     "output_type": "stream",
     "text": [
      "100%|██████████| 79/79 [00:16<00:00,  4.84it/s]\n"
     ]
    },
    {
     "name": "stdout",
     "output_type": "stream",
     "text": [
      "18 \t test acc : 0.8822000026702881\n"
     ]
    },
    {
     "name": "stderr",
     "output_type": "stream",
     "text": [
      "100%|██████████| 79/79 [00:16<00:00,  4.86it/s]\n"
     ]
    },
    {
     "name": "stdout",
     "output_type": "stream",
     "text": [
      "18 \t test acc : 0.7110999822616577\n",
      "====================================================================================================\n",
      "lr : [0.001]\n"
     ]
    },
    {
     "name": "stderr",
     "output_type": "stream",
     "text": [
      "100%|██████████| 391/391 [09:16<00:00,  1.42s/it]\n"
     ]
    },
    {
     "name": "stdout",
     "output_type": "stream",
     "text": [
      "distill loss :  0.18986452629556283\n",
      "general loss :  0.38676848405462394\n",
      "Teacher acc: 0.5744999647140503\n",
      "Student acc: 0.8943799734115601\n"
     ]
    },
    {
     "name": "stderr",
     "output_type": "stream",
     "text": [
      "100%|██████████| 79/79 [00:16<00:00,  4.86it/s]\n"
     ]
    },
    {
     "name": "stdout",
     "output_type": "stream",
     "text": [
      "19 \t test acc : 0.8823999762535095\n"
     ]
    },
    {
     "name": "stderr",
     "output_type": "stream",
     "text": [
      "100%|██████████| 79/79 [00:16<00:00,  4.83it/s]\n"
     ]
    },
    {
     "name": "stdout",
     "output_type": "stream",
     "text": [
      "19 \t test acc : 0.7110999822616577\n",
      "====================================================================================================\n",
      "lr : [0.001]\n"
     ]
    },
    {
     "name": "stderr",
     "output_type": "stream",
     "text": [
      "100%|██████████| 391/391 [09:09<00:00,  1.41s/it]\n"
     ]
    },
    {
     "name": "stdout",
     "output_type": "stream",
     "text": [
      "distill loss :  0.16950765475059104\n",
      "general loss :  0.3873971340525181\n",
      "Teacher acc: 0.5708999633789062\n",
      "Student acc: 0.8959199786186218\n"
     ]
    },
    {
     "name": "stderr",
     "output_type": "stream",
     "text": [
      "100%|██████████| 79/79 [00:16<00:00,  4.84it/s]\n"
     ]
    },
    {
     "name": "stdout",
     "output_type": "stream",
     "text": [
      "20 \t test acc : 0.8833999633789062\n"
     ]
    },
    {
     "name": "stderr",
     "output_type": "stream",
     "text": [
      "100%|██████████| 79/79 [00:16<00:00,  4.86it/s]\n"
     ]
    },
    {
     "name": "stdout",
     "output_type": "stream",
     "text": [
      "20 \t test acc : 0.7110999822616577\n",
      "====================================================================================================\n",
      "lr : [0.001]\n"
     ]
    },
    {
     "name": "stderr",
     "output_type": "stream",
     "text": [
      "100%|██████████| 391/391 [09:11<00:00,  1.41s/it]\n"
     ]
    },
    {
     "name": "stdout",
     "output_type": "stream",
     "text": [
      "distill loss :  0.17231001194013887\n",
      "general loss :  0.3827662371156161\n",
      "Teacher acc: 0.5745399594306946\n",
      "Student acc: 0.8978399634361267\n"
     ]
    },
    {
     "name": "stderr",
     "output_type": "stream",
     "text": [
      "100%|██████████| 79/79 [00:16<00:00,  4.85it/s]\n"
     ]
    },
    {
     "name": "stdout",
     "output_type": "stream",
     "text": [
      "21 \t test acc : 0.8842999935150146\n"
     ]
    },
    {
     "name": "stderr",
     "output_type": "stream",
     "text": [
      "100%|██████████| 79/79 [00:16<00:00,  4.82it/s]\n"
     ]
    },
    {
     "name": "stdout",
     "output_type": "stream",
     "text": [
      "21 \t test acc : 0.7110999822616577\n",
      "====================================================================================================\n",
      "lr : [0.001]\n"
     ]
    },
    {
     "name": "stderr",
     "output_type": "stream",
     "text": [
      "100%|██████████| 391/391 [09:08<00:00,  1.40s/it]\n"
     ]
    },
    {
     "name": "stdout",
     "output_type": "stream",
     "text": [
      "distill loss :  0.16316691712926493\n",
      "general loss :  0.3789715252416518\n",
      "Teacher acc: 0.5748999714851379\n",
      "Student acc: 0.8977999687194824\n"
     ]
    },
    {
     "name": "stderr",
     "output_type": "stream",
     "text": [
      "100%|██████████| 79/79 [00:16<00:00,  4.79it/s]\n"
     ]
    },
    {
     "name": "stdout",
     "output_type": "stream",
     "text": [
      "22 \t test acc : 0.8836999535560608\n"
     ]
    },
    {
     "name": "stderr",
     "output_type": "stream",
     "text": [
      "100%|██████████| 79/79 [00:16<00:00,  4.81it/s]\n"
     ]
    },
    {
     "name": "stdout",
     "output_type": "stream",
     "text": [
      "22 \t test acc : 0.7110999822616577\n",
      "====================================================================================================\n",
      "lr : [0.001]\n"
     ]
    },
    {
     "name": "stderr",
     "output_type": "stream",
     "text": [
      "100%|██████████| 391/391 [09:11<00:00,  1.41s/it]\n"
     ]
    },
    {
     "name": "stdout",
     "output_type": "stream",
     "text": [
      "distill loss :  0.16629526727711377\n",
      "general loss :  0.37228952988486763\n",
      "Teacher acc: 0.5763199925422668\n",
      "Student acc: 0.9003199934959412\n"
     ]
    },
    {
     "name": "stderr",
     "output_type": "stream",
     "text": [
      "100%|██████████| 79/79 [00:16<00:00,  4.87it/s]\n"
     ]
    },
    {
     "name": "stdout",
     "output_type": "stream",
     "text": [
      "23 \t test acc : 0.8836999535560608\n"
     ]
    },
    {
     "name": "stderr",
     "output_type": "stream",
     "text": [
      "100%|██████████| 79/79 [00:16<00:00,  4.89it/s]\n"
     ]
    },
    {
     "name": "stdout",
     "output_type": "stream",
     "text": [
      "23 \t test acc : 0.7110999822616577\n",
      "====================================================================================================\n",
      "lr : [0.0001]\n"
     ]
    },
    {
     "name": "stderr",
     "output_type": "stream",
     "text": [
      "100%|██████████| 391/391 [09:14<00:00,  1.42s/it]\n"
     ]
    },
    {
     "name": "stdout",
     "output_type": "stream",
     "text": [
      "distill loss :  0.180665944945877\n",
      "general loss :  0.37050951836282947\n",
      "Teacher acc: 0.5718199610710144\n",
      "Student acc: 0.9003599882125854\n"
     ]
    },
    {
     "name": "stderr",
     "output_type": "stream",
     "text": [
      "100%|██████████| 79/79 [00:16<00:00,  4.82it/s]\n"
     ]
    },
    {
     "name": "stdout",
     "output_type": "stream",
     "text": [
      "24 \t test acc : 0.8851999640464783\n"
     ]
    },
    {
     "name": "stderr",
     "output_type": "stream",
     "text": [
      "100%|██████████| 79/79 [00:16<00:00,  4.84it/s]\n"
     ]
    },
    {
     "name": "stdout",
     "output_type": "stream",
     "text": [
      "24 \t test acc : 0.7110999822616577\n",
      "====================================================================================================\n",
      "lr : [0.0001]\n"
     ]
    },
    {
     "name": "stderr",
     "output_type": "stream",
     "text": [
      "100%|██████████| 391/391 [09:10<00:00,  1.41s/it]\n"
     ]
    },
    {
     "name": "stdout",
     "output_type": "stream",
     "text": [
      "distill loss :  0.17086017728471162\n",
      "general loss :  0.3624957078481879\n",
      "Teacher acc: 0.5743199586868286\n",
      "Student acc: 0.9032999873161316\n"
     ]
    },
    {
     "name": "stderr",
     "output_type": "stream",
     "text": [
      "100%|██████████| 79/79 [00:16<00:00,  4.86it/s]\n"
     ]
    },
    {
     "name": "stdout",
     "output_type": "stream",
     "text": [
      "25 \t test acc : 0.8852999806404114\n"
     ]
    },
    {
     "name": "stderr",
     "output_type": "stream",
     "text": [
      "100%|██████████| 79/79 [00:16<00:00,  4.88it/s]\n"
     ]
    },
    {
     "name": "stdout",
     "output_type": "stream",
     "text": [
      "25 \t test acc : 0.7110999822616577\n",
      "====================================================================================================\n",
      "lr : [0.0001]\n"
     ]
    },
    {
     "name": "stderr",
     "output_type": "stream",
     "text": [
      "100%|██████████| 391/391 [09:13<00:00,  1.41s/it]\n"
     ]
    },
    {
     "name": "stdout",
     "output_type": "stream",
     "text": [
      "distill loss :  0.1742067485428451\n",
      "general loss :  0.372338997776551\n",
      "Teacher acc: 0.5713199973106384\n",
      "Student acc: 0.899399995803833\n"
     ]
    },
    {
     "name": "stderr",
     "output_type": "stream",
     "text": [
      "100%|██████████| 79/79 [00:16<00:00,  4.84it/s]\n"
     ]
    },
    {
     "name": "stdout",
     "output_type": "stream",
     "text": [
      "26 \t test acc : 0.8853999972343445\n"
     ]
    },
    {
     "name": "stderr",
     "output_type": "stream",
     "text": [
      "100%|██████████| 79/79 [00:16<00:00,  4.82it/s]\n"
     ]
    },
    {
     "name": "stdout",
     "output_type": "stream",
     "text": [
      "26 \t test acc : 0.7110999822616577\n",
      "====================================================================================================\n",
      "lr : [0.0001]\n"
     ]
    },
    {
     "name": "stderr",
     "output_type": "stream",
     "text": [
      "100%|██████████| 391/391 [09:11<00:00,  1.41s/it]\n"
     ]
    },
    {
     "name": "stdout",
     "output_type": "stream",
     "text": [
      "distill loss :  0.1682044557102806\n",
      "general loss :  0.3630634741405087\n",
      "Teacher acc: 0.5742599964141846\n",
      "Student acc: 0.901479959487915\n"
     ]
    },
    {
     "name": "stderr",
     "output_type": "stream",
     "text": [
      "100%|██████████| 79/79 [00:16<00:00,  4.83it/s]\n"
     ]
    },
    {
     "name": "stdout",
     "output_type": "stream",
     "text": [
      "27 \t test acc : 0.8847999572753906\n"
     ]
    },
    {
     "name": "stderr",
     "output_type": "stream",
     "text": [
      "100%|██████████| 79/79 [00:16<00:00,  4.87it/s]\n"
     ]
    },
    {
     "name": "stdout",
     "output_type": "stream",
     "text": [
      "27 \t test acc : 0.7110999822616577\n",
      "====================================================================================================\n",
      "lr : [0.0001]\n"
     ]
    },
    {
     "name": "stderr",
     "output_type": "stream",
     "text": [
      "100%|██████████| 391/391 [09:14<00:00,  1.42s/it]\n"
     ]
    },
    {
     "name": "stdout",
     "output_type": "stream",
     "text": [
      "distill loss :  0.17780681710947505\n",
      "general loss :  0.3668943999520958\n",
      "Teacher acc: 0.5727199912071228\n",
      "Student acc: 0.9012199640274048\n"
     ]
    },
    {
     "name": "stderr",
     "output_type": "stream",
     "text": [
      "100%|██████████| 79/79 [00:16<00:00,  4.88it/s]\n"
     ]
    },
    {
     "name": "stdout",
     "output_type": "stream",
     "text": [
      "28 \t test acc : 0.885699987411499\n"
     ]
    },
    {
     "name": "stderr",
     "output_type": "stream",
     "text": [
      "100%|██████████| 79/79 [00:16<00:00,  4.88it/s]\n"
     ]
    },
    {
     "name": "stdout",
     "output_type": "stream",
     "text": [
      "28 \t test acc : 0.7110999822616577\n",
      "====================================================================================================\n",
      "lr : [0.0001]\n"
     ]
    },
    {
     "name": "stderr",
     "output_type": "stream",
     "text": [
      "100%|██████████| 391/391 [09:12<00:00,  1.41s/it]\n"
     ]
    },
    {
     "name": "stdout",
     "output_type": "stream",
     "text": [
      "distill loss :  0.17189663831058824\n",
      "general loss :  0.36275468038780917\n",
      "Teacher acc: 0.5750200152397156\n",
      "Student acc: 0.9025799632072449\n"
     ]
    },
    {
     "name": "stderr",
     "output_type": "stream",
     "text": [
      "100%|██████████| 79/79 [00:16<00:00,  4.83it/s]\n"
     ]
    },
    {
     "name": "stdout",
     "output_type": "stream",
     "text": [
      "29 \t test acc : 0.883899986743927\n"
     ]
    },
    {
     "name": "stderr",
     "output_type": "stream",
     "text": [
      "100%|██████████| 79/79 [00:16<00:00,  4.86it/s]\n"
     ]
    },
    {
     "name": "stdout",
     "output_type": "stream",
     "text": [
      "29 \t test acc : 0.7110999822616577\n",
      "====================================================================================================\n",
      "lr : [1e-05]\n"
     ]
    },
    {
     "name": "stderr",
     "output_type": "stream",
     "text": [
      "100%|██████████| 391/391 [09:13<00:00,  1.41s/it]\n"
     ]
    },
    {
     "name": "stdout",
     "output_type": "stream",
     "text": [
      "distill loss :  0.17347860887475178\n",
      "general loss :  0.36792863345207155\n",
      "Teacher acc: 0.5733799934387207\n",
      "Student acc: 0.9008599519729614\n"
     ]
    },
    {
     "name": "stderr",
     "output_type": "stream",
     "text": [
      "100%|██████████| 79/79 [00:16<00:00,  4.85it/s]\n"
     ]
    },
    {
     "name": "stdout",
     "output_type": "stream",
     "text": [
      "30 \t test acc : 0.8840999603271484\n"
     ]
    },
    {
     "name": "stderr",
     "output_type": "stream",
     "text": [
      "100%|██████████| 79/79 [00:16<00:00,  4.85it/s]\n"
     ]
    },
    {
     "name": "stdout",
     "output_type": "stream",
     "text": [
      "30 \t test acc : 0.7110999822616577\n",
      "====================================================================================================\n",
      "lr : [1e-05]\n"
     ]
    },
    {
     "name": "stderr",
     "output_type": "stream",
     "text": [
      "100%|██████████| 391/391 [09:13<00:00,  1.41s/it]\n"
     ]
    },
    {
     "name": "stdout",
     "output_type": "stream",
     "text": [
      "distill loss :  0.1762973770065724\n",
      "general loss :  0.3648754615155632\n",
      "Teacher acc: 0.5761600136756897\n",
      "Student acc: 0.9022799730300903\n"
     ]
    },
    {
     "name": "stderr",
     "output_type": "stream",
     "text": [
      "100%|██████████| 79/79 [00:16<00:00,  4.84it/s]\n"
     ]
    },
    {
     "name": "stdout",
     "output_type": "stream",
     "text": [
      "31 \t test acc : 0.884399950504303\n"
     ]
    },
    {
     "name": "stderr",
     "output_type": "stream",
     "text": [
      "100%|██████████| 79/79 [00:16<00:00,  4.85it/s]\n"
     ]
    },
    {
     "name": "stdout",
     "output_type": "stream",
     "text": [
      "31 \t test acc : 0.7110999822616577\n",
      "====================================================================================================\n",
      "lr : [1e-05]\n"
     ]
    },
    {
     "name": "stderr",
     "output_type": "stream",
     "text": [
      "100%|██████████| 391/391 [09:11<00:00,  1.41s/it]\n"
     ]
    },
    {
     "name": "stdout",
     "output_type": "stream",
     "text": [
      "distill loss :  0.16465632181347864\n",
      "general loss :  0.3603579907694741\n",
      "Teacher acc: 0.5748800039291382\n",
      "Student acc: 0.9028599858283997\n"
     ]
    },
    {
     "name": "stderr",
     "output_type": "stream",
     "text": [
      "100%|██████████| 79/79 [00:16<00:00,  4.84it/s]\n"
     ]
    },
    {
     "name": "stdout",
     "output_type": "stream",
     "text": [
      "32 \t test acc : 0.8844999670982361\n"
     ]
    },
    {
     "name": "stderr",
     "output_type": "stream",
     "text": [
      "100%|██████████| 79/79 [00:16<00:00,  4.86it/s]\n"
     ]
    },
    {
     "name": "stdout",
     "output_type": "stream",
     "text": [
      "32 \t test acc : 0.7110999822616577\n",
      "====================================================================================================\n",
      "lr : [1e-05]\n"
     ]
    },
    {
     "name": "stderr",
     "output_type": "stream",
     "text": [
      "100%|██████████| 391/391 [09:12<00:00,  1.41s/it]\n"
     ]
    },
    {
     "name": "stdout",
     "output_type": "stream",
     "text": [
      "distill loss :  0.17395699403160597\n",
      "general loss :  0.35766971610543674\n",
      "Teacher acc: 0.5747199654579163\n",
      "Student acc: 0.9037399888038635\n"
     ]
    },
    {
     "name": "stderr",
     "output_type": "stream",
     "text": [
      "100%|██████████| 79/79 [00:16<00:00,  4.78it/s]\n"
     ]
    },
    {
     "name": "stdout",
     "output_type": "stream",
     "text": [
      "33 \t test acc : 0.8842999935150146\n"
     ]
    },
    {
     "name": "stderr",
     "output_type": "stream",
     "text": [
      "100%|██████████| 79/79 [00:16<00:00,  4.78it/s]\n"
     ]
    },
    {
     "name": "stdout",
     "output_type": "stream",
     "text": [
      "33 \t test acc : 0.7110999822616577\n",
      "====================================================================================================\n",
      "lr : [1e-05]\n"
     ]
    },
    {
     "name": "stderr",
     "output_type": "stream",
     "text": [
      "100%|██████████| 391/391 [09:12<00:00,  1.41s/it]\n"
     ]
    },
    {
     "name": "stdout",
     "output_type": "stream",
     "text": [
      "distill loss :  0.17519570228017275\n",
      "general loss :  0.36483620511144016\n",
      "Teacher acc: 0.5724599957466125\n",
      "Student acc: 0.9025599956512451\n"
     ]
    },
    {
     "name": "stderr",
     "output_type": "stream",
     "text": [
      "100%|██████████| 79/79 [00:16<00:00,  4.83it/s]\n"
     ]
    },
    {
     "name": "stdout",
     "output_type": "stream",
     "text": [
      "34 \t test acc : 0.8840999603271484\n"
     ]
    },
    {
     "name": "stderr",
     "output_type": "stream",
     "text": [
      "100%|██████████| 79/79 [00:16<00:00,  4.83it/s]\n"
     ]
    },
    {
     "name": "stdout",
     "output_type": "stream",
     "text": [
      "34 \t test acc : 0.7110999822616577\n",
      "====================================================================================================\n",
      "lr : [1e-05]\n"
     ]
    },
    {
     "name": "stderr",
     "output_type": "stream",
     "text": [
      "100%|██████████| 391/391 [09:09<00:00,  1.41s/it]\n"
     ]
    },
    {
     "name": "stdout",
     "output_type": "stream",
     "text": [
      "distill loss :  0.16241367483783103\n",
      "general loss :  0.3594444555699673\n",
      "Teacher acc: 0.5719199776649475\n",
      "Student acc: 0.9047799706459045\n"
     ]
    },
    {
     "name": "stderr",
     "output_type": "stream",
     "text": [
      "100%|██████████| 79/79 [00:16<00:00,  4.87it/s]\n"
     ]
    },
    {
     "name": "stdout",
     "output_type": "stream",
     "text": [
      "35 \t test acc : 0.8837999701499939\n"
     ]
    },
    {
     "name": "stderr",
     "output_type": "stream",
     "text": [
      "100%|██████████| 79/79 [00:16<00:00,  4.84it/s]\n"
     ]
    },
    {
     "name": "stdout",
     "output_type": "stream",
     "text": [
      "35 \t test acc : 0.7110999822616577\n",
      "====================================================================================================\n",
      "lr : [1.0000000000000002e-06]\n"
     ]
    },
    {
     "name": "stderr",
     "output_type": "stream",
     "text": [
      "100%|██████████| 391/391 [09:12<00:00,  1.41s/it]\n"
     ]
    },
    {
     "name": "stdout",
     "output_type": "stream",
     "text": [
      "distill loss :  0.1745558247622817\n",
      "general loss :  0.3606051645239296\n",
      "Teacher acc: 0.5733999609947205\n",
      "Student acc: 0.9030599594116211\n"
     ]
    },
    {
     "name": "stderr",
     "output_type": "stream",
     "text": [
      "100%|██████████| 79/79 [00:16<00:00,  4.86it/s]\n"
     ]
    },
    {
     "name": "stdout",
     "output_type": "stream",
     "text": [
      "36 \t test acc : 0.8836999535560608\n"
     ]
    },
    {
     "name": "stderr",
     "output_type": "stream",
     "text": [
      "100%|██████████| 79/79 [00:16<00:00,  4.85it/s]\n"
     ]
    },
    {
     "name": "stdout",
     "output_type": "stream",
     "text": [
      "36 \t test acc : 0.7110999822616577\n",
      "====================================================================================================\n",
      "lr : [1.0000000000000002e-06]\n"
     ]
    },
    {
     "name": "stderr",
     "output_type": "stream",
     "text": [
      "100%|██████████| 391/391 [09:13<00:00,  1.42s/it]\n"
     ]
    },
    {
     "name": "stdout",
     "output_type": "stream",
     "text": [
      "distill loss :  0.17374316555783725\n",
      "general loss :  0.36464879892366314\n",
      "Teacher acc: 0.5722399950027466\n",
      "Student acc: 0.9021999835968018\n"
     ]
    },
    {
     "name": "stderr",
     "output_type": "stream",
     "text": [
      "100%|██████████| 79/79 [00:16<00:00,  4.84it/s]\n"
     ]
    },
    {
     "name": "stdout",
     "output_type": "stream",
     "text": [
      "37 \t test acc : 0.8836999535560608\n"
     ]
    },
    {
     "name": "stderr",
     "output_type": "stream",
     "text": [
      "100%|██████████| 79/79 [00:16<00:00,  4.84it/s]\n"
     ]
    },
    {
     "name": "stdout",
     "output_type": "stream",
     "text": [
      "37 \t test acc : 0.7110999822616577\n",
      "====================================================================================================\n",
      "lr : [1.0000000000000002e-06]\n"
     ]
    },
    {
     "name": "stderr",
     "output_type": "stream",
     "text": [
      "100%|██████████| 391/391 [09:09<00:00,  1.41s/it]\n"
     ]
    },
    {
     "name": "stdout",
     "output_type": "stream",
     "text": [
      "distill loss :  0.16340650206007767\n",
      "general loss :  0.3681108741199269\n",
      "Teacher acc: 0.5737800002098083\n",
      "Student acc: 0.9004799723625183\n"
     ]
    },
    {
     "name": "stderr",
     "output_type": "stream",
     "text": [
      "100%|██████████| 79/79 [00:16<00:00,  4.89it/s]\n"
     ]
    },
    {
     "name": "stdout",
     "output_type": "stream",
     "text": [
      "38 \t test acc : 0.8837999701499939\n"
     ]
    },
    {
     "name": "stderr",
     "output_type": "stream",
     "text": [
      "100%|██████████| 79/79 [00:16<00:00,  4.87it/s]\n"
     ]
    },
    {
     "name": "stdout",
     "output_type": "stream",
     "text": [
      "38 \t test acc : 0.7110999822616577\n",
      "====================================================================================================\n",
      "lr : [1.0000000000000002e-06]\n"
     ]
    },
    {
     "name": "stderr",
     "output_type": "stream",
     "text": [
      "100%|██████████| 391/391 [09:11<00:00,  1.41s/it]\n"
     ]
    },
    {
     "name": "stdout",
     "output_type": "stream",
     "text": [
      "distill loss :  0.1728246240993328\n",
      "general loss :  0.36586139314924665\n",
      "Teacher acc: 0.5738599896430969\n",
      "Student acc: 0.902239978313446\n"
     ]
    },
    {
     "name": "stderr",
     "output_type": "stream",
     "text": [
      "100%|██████████| 79/79 [00:16<00:00,  4.84it/s]\n"
     ]
    },
    {
     "name": "stdout",
     "output_type": "stream",
     "text": [
      "39 \t test acc : 0.8837999701499939\n"
     ]
    },
    {
     "name": "stderr",
     "output_type": "stream",
     "text": [
      "100%|██████████| 79/79 [00:16<00:00,  4.89it/s]\n"
     ]
    },
    {
     "name": "stdout",
     "output_type": "stream",
     "text": [
      "39 \t test acc : 0.7110999822616577\n",
      "====================================================================================================\n",
      "lr : [1.0000000000000002e-06]\n"
     ]
    },
    {
     "name": "stderr",
     "output_type": "stream",
     "text": [
      "100%|██████████| 391/391 [09:12<00:00,  1.41s/it]\n"
     ]
    },
    {
     "name": "stdout",
     "output_type": "stream",
     "text": [
      "distill loss :  0.16669509393851395\n",
      "general loss :  0.35939141353377907\n",
      "Teacher acc: 0.5753799676895142\n",
      "Student acc: 0.9040199518203735\n"
     ]
    },
    {
     "name": "stderr",
     "output_type": "stream",
     "text": [
      "100%|██████████| 79/79 [00:16<00:00,  4.86it/s]\n"
     ]
    },
    {
     "name": "stdout",
     "output_type": "stream",
     "text": [
      "40 \t test acc : 0.8836999535560608\n"
     ]
    },
    {
     "name": "stderr",
     "output_type": "stream",
     "text": [
      "100%|██████████| 79/79 [00:16<00:00,  4.87it/s]\n"
     ]
    },
    {
     "name": "stdout",
     "output_type": "stream",
     "text": [
      "40 \t test acc : 0.7110999822616577\n",
      "====================================================================================================\n",
      "lr : [1.0000000000000002e-06]\n"
     ]
    },
    {
     "name": "stderr",
     "output_type": "stream",
     "text": [
      "100%|██████████| 391/391 [09:10<00:00,  1.41s/it]\n"
     ]
    },
    {
     "name": "stdout",
     "output_type": "stream",
     "text": [
      "distill loss :  0.16491674473914114\n",
      "general loss :  0.3548551569585605\n",
      "Teacher acc: 0.5746399760246277\n",
      "Student acc: 0.905299961566925\n"
     ]
    },
    {
     "name": "stderr",
     "output_type": "stream",
     "text": [
      "100%|██████████| 79/79 [00:16<00:00,  4.89it/s]\n"
     ]
    },
    {
     "name": "stdout",
     "output_type": "stream",
     "text": [
      "41 \t test acc : 0.8837999701499939\n"
     ]
    },
    {
     "name": "stderr",
     "output_type": "stream",
     "text": [
      "100%|██████████| 79/79 [00:16<00:00,  4.78it/s]\n"
     ]
    },
    {
     "name": "stdout",
     "output_type": "stream",
     "text": [
      "41 \t test acc : 0.7110999822616577\n",
      "====================================================================================================\n",
      "lr : [1.0000000000000002e-07]\n"
     ]
    },
    {
     "name": "stderr",
     "output_type": "stream",
     "text": [
      "100%|██████████| 391/391 [09:13<00:00,  1.42s/it]\n"
     ]
    },
    {
     "name": "stdout",
     "output_type": "stream",
     "text": [
      "distill loss :  0.17143276792800868\n",
      "general loss :  0.3587899985139632\n",
      "Teacher acc: 0.5738599896430969\n",
      "Student acc: 0.9038800001144409\n"
     ]
    },
    {
     "name": "stderr",
     "output_type": "stream",
     "text": [
      "100%|██████████| 79/79 [00:16<00:00,  4.85it/s]\n"
     ]
    },
    {
     "name": "stdout",
     "output_type": "stream",
     "text": [
      "42 \t test acc : 0.8836999535560608\n"
     ]
    },
    {
     "name": "stderr",
     "output_type": "stream",
     "text": [
      "100%|██████████| 79/79 [00:16<00:00,  4.71it/s]\n"
     ]
    },
    {
     "name": "stdout",
     "output_type": "stream",
     "text": [
      "42 \t test acc : 0.7110999822616577\n",
      "====================================================================================================\n",
      "lr : [1.0000000000000002e-07]\n"
     ]
    },
    {
     "name": "stderr",
     "output_type": "stream",
     "text": [
      "100%|██████████| 391/391 [09:13<00:00,  1.41s/it]\n"
     ]
    },
    {
     "name": "stdout",
     "output_type": "stream",
     "text": [
      "distill loss :  0.171794343408664\n",
      "general loss :  0.36399323830519187\n",
      "Teacher acc: 0.5746399760246277\n",
      "Student acc: 0.9008399844169617\n"
     ]
    },
    {
     "name": "stderr",
     "output_type": "stream",
     "text": [
      "100%|██████████| 79/79 [00:16<00:00,  4.86it/s]\n"
     ]
    },
    {
     "name": "stdout",
     "output_type": "stream",
     "text": [
      "43 \t test acc : 0.8837999701499939\n"
     ]
    },
    {
     "name": "stderr",
     "output_type": "stream",
     "text": [
      "100%|██████████| 79/79 [00:16<00:00,  4.85it/s]\n"
     ]
    },
    {
     "name": "stdout",
     "output_type": "stream",
     "text": [
      "43 \t test acc : 0.7110999822616577\n",
      "====================================================================================================\n",
      "lr : [1.0000000000000002e-07]\n"
     ]
    },
    {
     "name": "stderr",
     "output_type": "stream",
     "text": [
      "100%|██████████| 391/391 [09:12<00:00,  1.41s/it]\n"
     ]
    },
    {
     "name": "stdout",
     "output_type": "stream",
     "text": [
      "distill loss :  0.1654130686550875\n",
      "general loss :  0.3684512031124071\n",
      "Teacher acc: 0.5738399624824524\n",
      "Student acc: 0.9007999897003174\n"
     ]
    },
    {
     "name": "stderr",
     "output_type": "stream",
     "text": [
      "100%|██████████| 79/79 [00:16<00:00,  4.84it/s]\n"
     ]
    },
    {
     "name": "stdout",
     "output_type": "stream",
     "text": [
      "44 \t test acc : 0.8837999701499939\n"
     ]
    },
    {
     "name": "stderr",
     "output_type": "stream",
     "text": [
      "100%|██████████| 79/79 [00:16<00:00,  4.82it/s]\n"
     ]
    },
    {
     "name": "stdout",
     "output_type": "stream",
     "text": [
      "44 \t test acc : 0.7110999822616577\n",
      "====================================================================================================\n",
      "lr : [1.0000000000000002e-07]\n"
     ]
    },
    {
     "name": "stderr",
     "output_type": "stream",
     "text": [
      "100%|██████████| 391/391 [09:11<00:00,  1.41s/it]\n"
     ]
    },
    {
     "name": "stdout",
     "output_type": "stream",
     "text": [
      "distill loss :  0.16471724426064194\n",
      "general loss :  0.3626778230566503\n",
      "Teacher acc: 0.5723199844360352\n",
      "Student acc: 0.9015799760818481\n"
     ]
    },
    {
     "name": "stderr",
     "output_type": "stream",
     "text": [
      "100%|██████████| 79/79 [00:16<00:00,  4.84it/s]\n"
     ]
    },
    {
     "name": "stdout",
     "output_type": "stream",
     "text": [
      "45 \t test acc : 0.8837999701499939\n"
     ]
    },
    {
     "name": "stderr",
     "output_type": "stream",
     "text": [
      "100%|██████████| 79/79 [00:16<00:00,  4.85it/s]\n"
     ]
    },
    {
     "name": "stdout",
     "output_type": "stream",
     "text": [
      "45 \t test acc : 0.7110999822616577\n",
      "====================================================================================================\n",
      "lr : [1.0000000000000002e-07]\n"
     ]
    },
    {
     "name": "stderr",
     "output_type": "stream",
     "text": [
      "100%|██████████| 391/391 [09:14<00:00,  1.42s/it]\n"
     ]
    },
    {
     "name": "stdout",
     "output_type": "stream",
     "text": [
      "distill loss :  0.17568932467704768\n",
      "general loss :  0.3587466734640129\n",
      "Teacher acc: 0.572219967842102\n",
      "Student acc: 0.9029399752616882\n"
     ]
    },
    {
     "name": "stderr",
     "output_type": "stream",
     "text": [
      "100%|██████████| 79/79 [00:16<00:00,  4.86it/s]\n"
     ]
    },
    {
     "name": "stdout",
     "output_type": "stream",
     "text": [
      "46 \t test acc : 0.8837999701499939\n"
     ]
    },
    {
     "name": "stderr",
     "output_type": "stream",
     "text": [
      "100%|██████████| 79/79 [00:16<00:00,  4.85it/s]\n"
     ]
    },
    {
     "name": "stdout",
     "output_type": "stream",
     "text": [
      "46 \t test acc : 0.7110999822616577\n",
      "====================================================================================================\n",
      "lr : [1.0000000000000002e-07]\n"
     ]
    },
    {
     "name": "stderr",
     "output_type": "stream",
     "text": [
      "100%|██████████| 391/391 [09:14<00:00,  1.42s/it]\n"
     ]
    },
    {
     "name": "stdout",
     "output_type": "stream",
     "text": [
      "distill loss :  0.17430496692914715\n",
      "general loss :  0.3562188328760664\n",
      "Teacher acc: 0.5740599632263184\n",
      "Student acc: 0.9035999774932861\n"
     ]
    },
    {
     "name": "stderr",
     "output_type": "stream",
     "text": [
      "100%|██████████| 79/79 [00:16<00:00,  4.76it/s]\n"
     ]
    },
    {
     "name": "stdout",
     "output_type": "stream",
     "text": [
      "47 \t test acc : 0.8836999535560608\n"
     ]
    },
    {
     "name": "stderr",
     "output_type": "stream",
     "text": [
      "100%|██████████| 79/79 [00:16<00:00,  4.83it/s]\n"
     ]
    },
    {
     "name": "stdout",
     "output_type": "stream",
     "text": [
      "47 \t test acc : 0.7110999822616577\n",
      "====================================================================================================\n",
      "lr : [1.0000000000000004e-08]\n"
     ]
    },
    {
     "name": "stderr",
     "output_type": "stream",
     "text": [
      "100%|██████████| 391/391 [09:14<00:00,  1.42s/it]\n"
     ]
    },
    {
     "name": "stdout",
     "output_type": "stream",
     "text": [
      "distill loss :  0.17639137210938938\n",
      "general loss :  0.3655168451654637\n",
      "Teacher acc: 0.5740999579429626\n",
      "Student acc: 0.901699960231781\n"
     ]
    },
    {
     "name": "stderr",
     "output_type": "stream",
     "text": [
      "100%|██████████| 79/79 [00:16<00:00,  4.87it/s]\n"
     ]
    },
    {
     "name": "stdout",
     "output_type": "stream",
     "text": [
      "48 \t test acc : 0.8837999701499939\n"
     ]
    },
    {
     "name": "stderr",
     "output_type": "stream",
     "text": [
      "100%|██████████| 79/79 [00:16<00:00,  4.85it/s]\n"
     ]
    },
    {
     "name": "stdout",
     "output_type": "stream",
     "text": [
      "48 \t test acc : 0.7110999822616577\n",
      "====================================================================================================\n",
      "lr : [1.0000000000000004e-08]\n"
     ]
    },
    {
     "name": "stderr",
     "output_type": "stream",
     "text": [
      "100%|██████████| 391/391 [09:11<00:00,  1.41s/it]\n"
     ]
    },
    {
     "name": "stdout",
     "output_type": "stream",
     "text": [
      "distill loss :  0.16159601437161342\n",
      "general loss :  0.35979594917172364\n",
      "Teacher acc: 0.5741199851036072\n",
      "Student acc: 0.9022799730300903\n"
     ]
    },
    {
     "name": "stderr",
     "output_type": "stream",
     "text": [
      "100%|██████████| 79/79 [00:16<00:00,  4.86it/s]\n"
     ]
    },
    {
     "name": "stdout",
     "output_type": "stream",
     "text": [
      "49 \t test acc : 0.8837999701499939\n"
     ]
    },
    {
     "name": "stderr",
     "output_type": "stream",
     "text": [
      "100%|██████████| 79/79 [00:16<00:00,  4.73it/s]\n"
     ]
    },
    {
     "name": "stdout",
     "output_type": "stream",
     "text": [
      "49 \t test acc : 0.7110999822616577\n",
      "====================================================================================================\n",
      "lr : [1.0000000000000004e-08]\n"
     ]
    },
    {
     "name": "stderr",
     "output_type": "stream",
     "text": [
      "100%|██████████| 391/391 [09:06<00:00,  1.40s/it]\n"
     ]
    },
    {
     "name": "stdout",
     "output_type": "stream",
     "text": [
      "distill loss :  0.1554586699189585\n",
      "general loss :  0.3623568988822\n",
      "Teacher acc: 0.5753399729728699\n",
      "Student acc: 0.9012999534606934\n"
     ]
    },
    {
     "name": "stderr",
     "output_type": "stream",
     "text": [
      "100%|██████████| 79/79 [00:16<00:00,  4.84it/s]\n"
     ]
    },
    {
     "name": "stdout",
     "output_type": "stream",
     "text": [
      "50 \t test acc : 0.8836999535560608\n"
     ]
    },
    {
     "name": "stderr",
     "output_type": "stream",
     "text": [
      "100%|██████████| 79/79 [00:16<00:00,  4.86it/s]\n"
     ]
    },
    {
     "name": "stdout",
     "output_type": "stream",
     "text": [
      "50 \t test acc : 0.7110999822616577\n",
      "====================================================================================================\n",
      "lr : [1.0000000000000004e-08]\n"
     ]
    },
    {
     "name": "stderr",
     "output_type": "stream",
     "text": [
      "100%|██████████| 391/391 [09:14<00:00,  1.42s/it]\n"
     ]
    },
    {
     "name": "stdout",
     "output_type": "stream",
     "text": [
      "distill loss :  0.1752947530401942\n",
      "general loss :  0.36487908124009055\n",
      "Teacher acc: 0.5740999579429626\n",
      "Student acc: 0.9022600054740906\n"
     ]
    },
    {
     "name": "stderr",
     "output_type": "stream",
     "text": [
      "100%|██████████| 79/79 [00:16<00:00,  4.88it/s]\n"
     ]
    },
    {
     "name": "stdout",
     "output_type": "stream",
     "text": [
      "51 \t test acc : 0.8837999701499939\n"
     ]
    },
    {
     "name": "stderr",
     "output_type": "stream",
     "text": [
      "100%|██████████| 79/79 [00:16<00:00,  4.86it/s]\n"
     ]
    },
    {
     "name": "stdout",
     "output_type": "stream",
     "text": [
      "51 \t test acc : 0.7110999822616577\n",
      "====================================================================================================\n",
      "lr : [1.0000000000000004e-08]\n"
     ]
    },
    {
     "name": "stderr",
     "output_type": "stream",
     "text": [
      "100%|██████████| 391/391 [09:13<00:00,  1.42s/it]\n"
     ]
    },
    {
     "name": "stdout",
     "output_type": "stream",
     "text": [
      "distill loss :  0.17388577264783633\n",
      "general loss :  0.35804871042899766\n",
      "Teacher acc: 0.5749599933624268\n",
      "Student acc: 0.9034799933433533\n"
     ]
    },
    {
     "name": "stderr",
     "output_type": "stream",
     "text": [
      "100%|██████████| 79/79 [00:16<00:00,  4.87it/s]\n"
     ]
    },
    {
     "name": "stdout",
     "output_type": "stream",
     "text": [
      "52 \t test acc : 0.8837999701499939\n"
     ]
    },
    {
     "name": "stderr",
     "output_type": "stream",
     "text": [
      "100%|██████████| 79/79 [00:16<00:00,  4.86it/s]\n"
     ]
    },
    {
     "name": "stdout",
     "output_type": "stream",
     "text": [
      "52 \t test acc : 0.7110999822616577\n",
      "====================================================================================================\n",
      "lr : [1.0000000000000004e-08]\n"
     ]
    },
    {
     "name": "stderr",
     "output_type": "stream",
     "text": [
      "100%|██████████| 391/391 [09:10<00:00,  1.41s/it]\n"
     ]
    },
    {
     "name": "stdout",
     "output_type": "stream",
     "text": [
      "distill loss :  0.16369069414570583\n",
      "general loss :  0.36262036661815156\n",
      "Teacher acc: 0.573199987411499\n",
      "Student acc: 0.9034599661827087\n"
     ]
    },
    {
     "name": "stderr",
     "output_type": "stream",
     "text": [
      "100%|██████████| 79/79 [00:16<00:00,  4.87it/s]\n"
     ]
    },
    {
     "name": "stdout",
     "output_type": "stream",
     "text": [
      "53 \t test acc : 0.8837999701499939\n"
     ]
    },
    {
     "name": "stderr",
     "output_type": "stream",
     "text": [
      "100%|██████████| 79/79 [00:16<00:00,  4.86it/s]\n"
     ]
    },
    {
     "name": "stdout",
     "output_type": "stream",
     "text": [
      "53 \t test acc : 0.7110999822616577\n",
      "====================================================================================================\n",
      "lr : [1.0000000000000005e-09]\n"
     ]
    },
    {
     "name": "stderr",
     "output_type": "stream",
     "text": [
      "100%|██████████| 391/391 [09:12<00:00,  1.41s/it]\n"
     ]
    },
    {
     "name": "stdout",
     "output_type": "stream",
     "text": [
      "distill loss :  0.16947133576406923\n",
      "general loss :  0.360100318403805\n",
      "Teacher acc: 0.5755199790000916\n",
      "Student acc: 0.9023399949073792\n"
     ]
    },
    {
     "name": "stderr",
     "output_type": "stream",
     "text": [
      "100%|██████████| 79/79 [00:16<00:00,  4.87it/s]\n"
     ]
    },
    {
     "name": "stdout",
     "output_type": "stream",
     "text": [
      "54 \t test acc : 0.8837999701499939\n"
     ]
    },
    {
     "name": "stderr",
     "output_type": "stream",
     "text": [
      "100%|██████████| 79/79 [00:16<00:00,  4.90it/s]\n"
     ]
    },
    {
     "name": "stdout",
     "output_type": "stream",
     "text": [
      "54 \t test acc : 0.7110999822616577\n",
      "====================================================================================================\n",
      "lr : [1.0000000000000005e-09]\n"
     ]
    },
    {
     "name": "stderr",
     "output_type": "stream",
     "text": [
      "100%|██████████| 391/391 [09:09<00:00,  1.41s/it]\n"
     ]
    },
    {
     "name": "stdout",
     "output_type": "stream",
     "text": [
      "distill loss :  0.1658831101430156\n",
      "general loss :  0.3600477395993669\n",
      "Teacher acc: 0.5738799571990967\n",
      "Student acc: 0.9036799669265747\n"
     ]
    },
    {
     "name": "stderr",
     "output_type": "stream",
     "text": [
      "100%|██████████| 79/79 [00:16<00:00,  4.73it/s]\n"
     ]
    },
    {
     "name": "stdout",
     "output_type": "stream",
     "text": [
      "55 \t test acc : 0.8837999701499939\n"
     ]
    },
    {
     "name": "stderr",
     "output_type": "stream",
     "text": [
      "100%|██████████| 79/79 [00:16<00:00,  4.75it/s]\n"
     ]
    },
    {
     "name": "stdout",
     "output_type": "stream",
     "text": [
      "55 \t test acc : 0.7110999822616577\n",
      "====================================================================================================\n",
      "lr : [1.0000000000000005e-09]\n"
     ]
    },
    {
     "name": "stderr",
     "output_type": "stream",
     "text": [
      "100%|██████████| 391/391 [09:14<00:00,  1.42s/it]\n"
     ]
    },
    {
     "name": "stdout",
     "output_type": "stream",
     "text": [
      "distill loss :  0.17783231973467048\n",
      "general loss :  0.36450652458021404\n",
      "Teacher acc: 0.5749599933624268\n",
      "Student acc: 0.9023599624633789\n"
     ]
    },
    {
     "name": "stderr",
     "output_type": "stream",
     "text": [
      "100%|██████████| 79/79 [00:16<00:00,  4.87it/s]\n"
     ]
    },
    {
     "name": "stdout",
     "output_type": "stream",
     "text": [
      "56 \t test acc : 0.8837999701499939\n"
     ]
    },
    {
     "name": "stderr",
     "output_type": "stream",
     "text": [
      "100%|██████████| 79/79 [00:16<00:00,  4.86it/s]\n"
     ]
    },
    {
     "name": "stdout",
     "output_type": "stream",
     "text": [
      "56 \t test acc : 0.7110999822616577\n",
      "====================================================================================================\n",
      "lr : [1.0000000000000005e-09]\n"
     ]
    },
    {
     "name": "stderr",
     "output_type": "stream",
     "text": [
      "100%|██████████| 391/391 [09:12<00:00,  1.41s/it]\n"
     ]
    },
    {
     "name": "stdout",
     "output_type": "stream",
     "text": [
      "distill loss :  0.17318483884863156\n",
      "general loss :  0.3671830446671342\n",
      "Teacher acc: 0.5743199586868286\n",
      "Student acc: 0.9014999866485596\n"
     ]
    },
    {
     "name": "stderr",
     "output_type": "stream",
     "text": [
      "100%|██████████| 79/79 [00:16<00:00,  4.86it/s]\n"
     ]
    },
    {
     "name": "stdout",
     "output_type": "stream",
     "text": [
      "57 \t test acc : 0.8837999701499939\n"
     ]
    },
    {
     "name": "stderr",
     "output_type": "stream",
     "text": [
      "100%|██████████| 79/79 [00:16<00:00,  4.85it/s]\n"
     ]
    },
    {
     "name": "stdout",
     "output_type": "stream",
     "text": [
      "57 \t test acc : 0.7110999822616577\n",
      "====================================================================================================\n",
      "lr : [1.0000000000000005e-09]\n"
     ]
    },
    {
     "name": "stderr",
     "output_type": "stream",
     "text": [
      "100%|██████████| 391/391 [09:11<00:00,  1.41s/it]\n"
     ]
    },
    {
     "name": "stdout",
     "output_type": "stream",
     "text": [
      "distill loss :  0.16950758778349595\n",
      "general loss :  0.36263579537953866\n",
      "Teacher acc: 0.5749599933624268\n",
      "Student acc: 0.9032399654388428\n"
     ]
    },
    {
     "name": "stderr",
     "output_type": "stream",
     "text": [
      "100%|██████████| 79/79 [00:16<00:00,  4.86it/s]\n"
     ]
    },
    {
     "name": "stdout",
     "output_type": "stream",
     "text": [
      "58 \t test acc : 0.8837999701499939\n"
     ]
    },
    {
     "name": "stderr",
     "output_type": "stream",
     "text": [
      "100%|██████████| 79/79 [00:16<00:00,  4.86it/s]\n"
     ]
    },
    {
     "name": "stdout",
     "output_type": "stream",
     "text": [
      "58 \t test acc : 0.7110999822616577\n",
      "====================================================================================================\n",
      "lr : [1.0000000000000005e-09]\n"
     ]
    },
    {
     "name": "stderr",
     "output_type": "stream",
     "text": [
      "100%|██████████| 391/391 [09:12<00:00,  1.41s/it]\n"
     ]
    },
    {
     "name": "stdout",
     "output_type": "stream",
     "text": [
      "distill loss :  0.16907735712959637\n",
      "general loss :  0.36981731100612897\n",
      "Teacher acc: 0.5730400085449219\n",
      "Student acc: 0.9012399911880493\n"
     ]
    },
    {
     "name": "stderr",
     "output_type": "stream",
     "text": [
      "100%|██████████| 79/79 [00:16<00:00,  4.84it/s]\n"
     ]
    },
    {
     "name": "stdout",
     "output_type": "stream",
     "text": [
      "59 \t test acc : 0.8837999701499939\n"
     ]
    },
    {
     "name": "stderr",
     "output_type": "stream",
     "text": [
      "100%|██████████| 79/79 [00:16<00:00,  4.84it/s]\n"
     ]
    },
    {
     "name": "stdout",
     "output_type": "stream",
     "text": [
      "59 \t test acc : 0.7110999822616577\n",
      "====================================================================================================\n",
      "lr : [1.0000000000000005e-09]\n"
     ]
    },
    {
     "name": "stderr",
     "output_type": "stream",
     "text": [
      "100%|██████████| 391/391 [09:12<00:00,  1.41s/it]\n"
     ]
    },
    {
     "name": "stdout",
     "output_type": "stream",
     "text": [
      "distill loss :  0.17278968713120046\n",
      "general loss :  0.363977666858517\n",
      "Teacher acc: 0.574180006980896\n",
      "Student acc: 0.9023799896240234\n"
     ]
    },
    {
     "name": "stderr",
     "output_type": "stream",
     "text": [
      "100%|██████████| 79/79 [00:16<00:00,  4.87it/s]\n"
     ]
    },
    {
     "name": "stdout",
     "output_type": "stream",
     "text": [
      "60 \t test acc : 0.8837999701499939\n"
     ]
    },
    {
     "name": "stderr",
     "output_type": "stream",
     "text": [
      "100%|██████████| 79/79 [00:16<00:00,  4.87it/s]\n"
     ]
    },
    {
     "name": "stdout",
     "output_type": "stream",
     "text": [
      "60 \t test acc : 0.7110999822616577\n",
      "====================================================================================================\n",
      "lr : [1.0000000000000005e-09]\n"
     ]
    },
    {
     "name": "stderr",
     "output_type": "stream",
     "text": [
      "100%|██████████| 391/391 [09:13<00:00,  1.42s/it]\n"
     ]
    },
    {
     "name": "stdout",
     "output_type": "stream",
     "text": [
      "distill loss :  0.17689025187936355\n",
      "general loss :  0.3583888207250239\n",
      "Teacher acc: 0.5760599970817566\n",
      "Student acc: 0.9029399752616882\n"
     ]
    },
    {
     "name": "stderr",
     "output_type": "stream",
     "text": [
      "100%|██████████| 79/79 [00:16<00:00,  4.86it/s]\n"
     ]
    },
    {
     "name": "stdout",
     "output_type": "stream",
     "text": [
      "61 \t test acc : 0.8837999701499939\n"
     ]
    },
    {
     "name": "stderr",
     "output_type": "stream",
     "text": [
      "100%|██████████| 79/79 [00:16<00:00,  4.85it/s]\n"
     ]
    },
    {
     "name": "stdout",
     "output_type": "stream",
     "text": [
      "61 \t test acc : 0.7110999822616577\n",
      "====================================================================================================\n",
      "lr : [1.0000000000000005e-09]\n"
     ]
    },
    {
     "name": "stderr",
     "output_type": "stream",
     "text": [
      "100%|██████████| 391/391 [09:15<00:00,  1.42s/it]\n"
     ]
    },
    {
     "name": "stdout",
     "output_type": "stream",
     "text": [
      "distill loss :  0.1801542773666551\n",
      "general loss :  0.3560677874652321\n",
      "Teacher acc: 0.5753399729728699\n",
      "Student acc: 0.903719961643219\n"
     ]
    },
    {
     "name": "stderr",
     "output_type": "stream",
     "text": [
      "100%|██████████| 79/79 [00:16<00:00,  4.84it/s]\n"
     ]
    },
    {
     "name": "stdout",
     "output_type": "stream",
     "text": [
      "62 \t test acc : 0.8837999701499939\n"
     ]
    },
    {
     "name": "stderr",
     "output_type": "stream",
     "text": [
      "100%|██████████| 79/79 [00:16<00:00,  4.84it/s]\n"
     ]
    },
    {
     "name": "stdout",
     "output_type": "stream",
     "text": [
      "62 \t test acc : 0.7110999822616577\n",
      "====================================================================================================\n",
      "lr : [1.0000000000000005e-09]\n"
     ]
    },
    {
     "name": "stderr",
     "output_type": "stream",
     "text": [
      "100%|██████████| 391/391 [09:10<00:00,  1.41s/it]\n"
     ]
    },
    {
     "name": "stdout",
     "output_type": "stream",
     "text": [
      "distill loss :  0.16814250997303393\n",
      "general loss :  0.3656421763169796\n",
      "Teacher acc: 0.5717999935150146\n",
      "Student acc: 0.9014599919319153\n"
     ]
    },
    {
     "name": "stderr",
     "output_type": "stream",
     "text": [
      "100%|██████████| 79/79 [00:16<00:00,  4.86it/s]\n"
     ]
    },
    {
     "name": "stdout",
     "output_type": "stream",
     "text": [
      "63 \t test acc : 0.8837999701499939\n"
     ]
    },
    {
     "name": "stderr",
     "output_type": "stream",
     "text": [
      "100%|██████████| 79/79 [00:16<00:00,  4.87it/s]\n"
     ]
    },
    {
     "name": "stdout",
     "output_type": "stream",
     "text": [
      "63 \t test acc : 0.7110999822616577\n",
      "====================================================================================================\n",
      "lr : [1.0000000000000005e-09]\n"
     ]
    },
    {
     "name": "stderr",
     "output_type": "stream",
     "text": [
      "100%|██████████| 391/391 [09:16<00:00,  1.42s/it]\n"
     ]
    },
    {
     "name": "stdout",
     "output_type": "stream",
     "text": [
      "distill loss :  0.18133531152830482\n",
      "general loss :  0.3637543016153833\n",
      "Teacher acc: 0.5740999579429626\n",
      "Student acc: 0.9015799760818481\n"
     ]
    },
    {
     "name": "stderr",
     "output_type": "stream",
     "text": [
      "100%|██████████| 79/79 [00:16<00:00,  4.86it/s]\n"
     ]
    },
    {
     "name": "stdout",
     "output_type": "stream",
     "text": [
      "64 \t test acc : 0.8837999701499939\n"
     ]
    },
    {
     "name": "stderr",
     "output_type": "stream",
     "text": [
      "100%|██████████| 79/79 [00:16<00:00,  4.85it/s]\n"
     ]
    },
    {
     "name": "stdout",
     "output_type": "stream",
     "text": [
      "64 \t test acc : 0.7110999822616577\n",
      "====================================================================================================\n",
      "lr : [1.0000000000000005e-09]\n"
     ]
    },
    {
     "name": "stderr",
     "output_type": "stream",
     "text": [
      "100%|██████████| 391/391 [09:11<00:00,  1.41s/it]\n"
     ]
    },
    {
     "name": "stdout",
     "output_type": "stream",
     "text": [
      "distill loss :  0.16662162303200465\n",
      "general loss :  0.3623293414902504\n",
      "Teacher acc: 0.5748199820518494\n",
      "Student acc: 0.902459979057312\n"
     ]
    },
    {
     "name": "stderr",
     "output_type": "stream",
     "text": [
      "100%|██████████| 79/79 [00:16<00:00,  4.83it/s]\n"
     ]
    },
    {
     "name": "stdout",
     "output_type": "stream",
     "text": [
      "65 \t test acc : 0.883899986743927\n"
     ]
    },
    {
     "name": "stderr",
     "output_type": "stream",
     "text": [
      "100%|██████████| 79/79 [00:16<00:00,  4.85it/s]\n"
     ]
    },
    {
     "name": "stdout",
     "output_type": "stream",
     "text": [
      "65 \t test acc : 0.7110999822616577\n",
      "====================================================================================================\n",
      "lr : [1.0000000000000005e-09]\n"
     ]
    },
    {
     "name": "stderr",
     "output_type": "stream",
     "text": [
      "100%|██████████| 391/391 [09:11<00:00,  1.41s/it]\n"
     ]
    },
    {
     "name": "stdout",
     "output_type": "stream",
     "text": [
      "distill loss :  0.17040698302199925\n",
      "general loss :  0.36296832149900743\n",
      "Teacher acc: 0.5744799971580505\n",
      "Student acc: 0.9025399684906006\n"
     ]
    },
    {
     "name": "stderr",
     "output_type": "stream",
     "text": [
      "100%|██████████| 79/79 [00:16<00:00,  4.88it/s]\n"
     ]
    },
    {
     "name": "stdout",
     "output_type": "stream",
     "text": [
      "66 \t test acc : 0.8836999535560608\n"
     ]
    },
    {
     "name": "stderr",
     "output_type": "stream",
     "text": [
      "100%|██████████| 79/79 [00:16<00:00,  4.88it/s]\n"
     ]
    },
    {
     "name": "stdout",
     "output_type": "stream",
     "text": [
      "66 \t test acc : 0.7110999822616577\n",
      "====================================================================================================\n",
      "lr : [1.0000000000000005e-09]\n"
     ]
    },
    {
     "name": "stderr",
     "output_type": "stream",
     "text": [
      "100%|██████████| 391/391 [09:05<00:00,  1.39s/it]\n"
     ]
    },
    {
     "name": "stdout",
     "output_type": "stream",
     "text": [
      "distill loss :  0.14962250759820347\n",
      "general loss :  0.36208930005655265\n",
      "Teacher acc: 0.5749599933624268\n",
      "Student acc: 0.9035199880599976\n"
     ]
    },
    {
     "name": "stderr",
     "output_type": "stream",
     "text": [
      "100%|██████████| 79/79 [00:16<00:00,  4.84it/s]\n"
     ]
    },
    {
     "name": "stdout",
     "output_type": "stream",
     "text": [
      "67 \t test acc : 0.883899986743927\n"
     ]
    },
    {
     "name": "stderr",
     "output_type": "stream",
     "text": [
      "100%|██████████| 79/79 [00:16<00:00,  4.72it/s]\n"
     ]
    },
    {
     "name": "stdout",
     "output_type": "stream",
     "text": [
      "67 \t test acc : 0.7110999822616577\n",
      "====================================================================================================\n",
      "lr : [1.0000000000000005e-09]\n"
     ]
    },
    {
     "name": "stderr",
     "output_type": "stream",
     "text": [
      "100%|██████████| 391/391 [09:11<00:00,  1.41s/it]\n"
     ]
    },
    {
     "name": "stdout",
     "output_type": "stream",
     "text": [
      "distill loss :  0.17256823107314384\n",
      "general loss :  0.3689099314534451\n",
      "Teacher acc: 0.5749199986457825\n",
      "Student acc: 0.9007200002670288\n"
     ]
    },
    {
     "name": "stderr",
     "output_type": "stream",
     "text": [
      "100%|██████████| 79/79 [00:16<00:00,  4.84it/s]\n"
     ]
    },
    {
     "name": "stdout",
     "output_type": "stream",
     "text": [
      "68 \t test acc : 0.883899986743927\n"
     ]
    },
    {
     "name": "stderr",
     "output_type": "stream",
     "text": [
      "100%|██████████| 79/79 [00:16<00:00,  4.86it/s]\n"
     ]
    },
    {
     "name": "stdout",
     "output_type": "stream",
     "text": [
      "68 \t test acc : 0.7110999822616577\n",
      "====================================================================================================\n",
      "lr : [1.0000000000000005e-09]\n"
     ]
    },
    {
     "name": "stderr",
     "output_type": "stream",
     "text": [
      "100%|██████████| 391/391 [09:08<00:00,  1.40s/it]\n"
     ]
    },
    {
     "name": "stdout",
     "output_type": "stream",
     "text": [
      "distill loss :  0.16682461775896495\n",
      "general loss :  0.3591243032070682\n",
      "Teacher acc: 0.5722999572753906\n",
      "Student acc: 0.9030799865722656\n"
     ]
    },
    {
     "name": "stderr",
     "output_type": "stream",
     "text": [
      "100%|██████████| 79/79 [00:16<00:00,  4.86it/s]\n"
     ]
    },
    {
     "name": "stdout",
     "output_type": "stream",
     "text": [
      "69 \t test acc : 0.8837999701499939\n"
     ]
    },
    {
     "name": "stderr",
     "output_type": "stream",
     "text": [
      "100%|██████████| 79/79 [00:16<00:00,  4.81it/s]\n"
     ]
    },
    {
     "name": "stdout",
     "output_type": "stream",
     "text": [
      "69 \t test acc : 0.7110999822616577\n",
      "====================================================================================================\n",
      "lr : [1.0000000000000005e-09]\n"
     ]
    },
    {
     "name": "stderr",
     "output_type": "stream",
     "text": [
      "100%|██████████| 391/391 [09:09<00:00,  1.41s/it]\n"
     ]
    },
    {
     "name": "stdout",
     "output_type": "stream",
     "text": [
      "distill loss :  0.16152779952339505\n",
      "general loss :  0.36136739146526514\n",
      "Teacher acc: 0.5730999708175659\n",
      "Student acc: 0.9025200009346008\n"
     ]
    },
    {
     "name": "stderr",
     "output_type": "stream",
     "text": [
      "100%|██████████| 79/79 [00:16<00:00,  4.86it/s]\n"
     ]
    },
    {
     "name": "stdout",
     "output_type": "stream",
     "text": [
      "70 \t test acc : 0.8837999701499939\n"
     ]
    },
    {
     "name": "stderr",
     "output_type": "stream",
     "text": [
      "100%|██████████| 79/79 [00:16<00:00,  4.86it/s]\n"
     ]
    },
    {
     "name": "stdout",
     "output_type": "stream",
     "text": [
      "70 \t test acc : 0.7110999822616577\n",
      "====================================================================================================\n",
      "lr : [1.0000000000000005e-09]\n"
     ]
    },
    {
     "name": "stderr",
     "output_type": "stream",
     "text": [
      "100%|██████████| 391/391 [09:11<00:00,  1.41s/it]\n"
     ]
    },
    {
     "name": "stdout",
     "output_type": "stream",
     "text": [
      "distill loss :  0.16753781977993296\n",
      "general loss :  0.36566747961294316\n",
      "Teacher acc: 0.5723999738693237\n",
      "Student acc: 0.9016199707984924\n"
     ]
    },
    {
     "name": "stderr",
     "output_type": "stream",
     "text": [
      "100%|██████████| 79/79 [00:16<00:00,  4.86it/s]\n"
     ]
    },
    {
     "name": "stdout",
     "output_type": "stream",
     "text": [
      "71 \t test acc : 0.883899986743927\n"
     ]
    },
    {
     "name": "stderr",
     "output_type": "stream",
     "text": [
      "100%|██████████| 79/79 [00:16<00:00,  4.87it/s]\n"
     ]
    },
    {
     "name": "stdout",
     "output_type": "stream",
     "text": [
      "71 \t test acc : 0.7110999822616577\n",
      "====================================================================================================\n",
      "lr : [1.0000000000000005e-09]\n"
     ]
    },
    {
     "name": "stderr",
     "output_type": "stream",
     "text": [
      "100%|██████████| 391/391 [09:05<00:00,  1.39s/it]\n"
     ]
    },
    {
     "name": "stdout",
     "output_type": "stream",
     "text": [
      "distill loss :  0.15324081347116728\n",
      "general loss :  0.36742367086660527\n",
      "Teacher acc: 0.5734800100326538\n",
      "Student acc: 0.9009999632835388\n"
     ]
    },
    {
     "name": "stderr",
     "output_type": "stream",
     "text": [
      "100%|██████████| 79/79 [00:16<00:00,  4.82it/s]\n"
     ]
    },
    {
     "name": "stdout",
     "output_type": "stream",
     "text": [
      "72 \t test acc : 0.8837999701499939\n"
     ]
    },
    {
     "name": "stderr",
     "output_type": "stream",
     "text": [
      "100%|██████████| 79/79 [00:16<00:00,  4.82it/s]\n"
     ]
    },
    {
     "name": "stdout",
     "output_type": "stream",
     "text": [
      "72 \t test acc : 0.7110999822616577\n",
      "====================================================================================================\n",
      "lr : [1.0000000000000005e-09]\n"
     ]
    },
    {
     "name": "stderr",
     "output_type": "stream",
     "text": [
      "100%|██████████| 391/391 [09:13<00:00,  1.41s/it]\n"
     ]
    },
    {
     "name": "stdout",
     "output_type": "stream",
     "text": [
      "distill loss :  0.17449446425527868\n",
      "general loss :  0.37083438991585654\n",
      "Teacher acc: 0.5714399814605713\n",
      "Student acc: 0.9000799655914307\n"
     ]
    },
    {
     "name": "stderr",
     "output_type": "stream",
     "text": [
      "100%|██████████| 79/79 [00:16<00:00,  4.83it/s]\n"
     ]
    },
    {
     "name": "stdout",
     "output_type": "stream",
     "text": [
      "73 \t test acc : 0.8837999701499939\n"
     ]
    },
    {
     "name": "stderr",
     "output_type": "stream",
     "text": [
      "100%|██████████| 79/79 [00:16<00:00,  4.85it/s]\n"
     ]
    },
    {
     "name": "stdout",
     "output_type": "stream",
     "text": [
      "73 \t test acc : 0.7110999822616577\n",
      "====================================================================================================\n",
      "lr : [1.0000000000000005e-09]\n"
     ]
    },
    {
     "name": "stderr",
     "output_type": "stream",
     "text": [
      "100%|██████████| 391/391 [09:08<00:00,  1.40s/it]\n"
     ]
    },
    {
     "name": "stdout",
     "output_type": "stream",
     "text": [
      "distill loss :  0.16564487477959802\n",
      "general loss :  0.36178511745103487\n",
      "Teacher acc: 0.5733799934387207\n",
      "Student acc: 0.9025999903678894\n"
     ]
    },
    {
     "name": "stderr",
     "output_type": "stream",
     "text": [
      "100%|██████████| 79/79 [00:16<00:00,  4.88it/s]\n"
     ]
    },
    {
     "name": "stdout",
     "output_type": "stream",
     "text": [
      "74 \t test acc : 0.883899986743927\n"
     ]
    },
    {
     "name": "stderr",
     "output_type": "stream",
     "text": [
      "100%|██████████| 79/79 [00:16<00:00,  4.88it/s]\n"
     ]
    },
    {
     "name": "stdout",
     "output_type": "stream",
     "text": [
      "74 \t test acc : 0.7110999822616577\n",
      "====================================================================================================\n",
      "lr : [1.0000000000000005e-09]\n"
     ]
    },
    {
     "name": "stderr",
     "output_type": "stream",
     "text": [
      "100%|██████████| 391/391 [09:11<00:00,  1.41s/it]\n"
     ]
    },
    {
     "name": "stdout",
     "output_type": "stream",
     "text": [
      "distill loss :  0.1738620039737781\n",
      "general loss :  0.3651951948547607\n",
      "Teacher acc: 0.5727199912071228\n",
      "Student acc: 0.9010799527168274\n"
     ]
    },
    {
     "name": "stderr",
     "output_type": "stream",
     "text": [
      "100%|██████████| 79/79 [00:16<00:00,  4.86it/s]\n"
     ]
    },
    {
     "name": "stdout",
     "output_type": "stream",
     "text": [
      "75 \t test acc : 0.8837999701499939\n"
     ]
    },
    {
     "name": "stderr",
     "output_type": "stream",
     "text": [
      "100%|██████████| 79/79 [00:16<00:00,  4.85it/s]\n"
     ]
    },
    {
     "name": "stdout",
     "output_type": "stream",
     "text": [
      "75 \t test acc : 0.7110999822616577\n",
      "====================================================================================================\n",
      "lr : [1.0000000000000005e-09]\n"
     ]
    },
    {
     "name": "stderr",
     "output_type": "stream",
     "text": [
      "100%|██████████| 391/391 [09:10<00:00,  1.41s/it]\n"
     ]
    },
    {
     "name": "stdout",
     "output_type": "stream",
     "text": [
      "distill loss :  0.16658769801373371\n",
      "general loss :  0.36485399157189957\n",
      "Teacher acc: 0.5726400017738342\n",
      "Student acc: 0.9020999670028687\n"
     ]
    },
    {
     "name": "stderr",
     "output_type": "stream",
     "text": [
      "100%|██████████| 79/79 [00:16<00:00,  4.84it/s]\n"
     ]
    },
    {
     "name": "stdout",
     "output_type": "stream",
     "text": [
      "76 \t test acc : 0.8837999701499939\n"
     ]
    },
    {
     "name": "stderr",
     "output_type": "stream",
     "text": [
      "100%|██████████| 79/79 [00:16<00:00,  4.86it/s]\n"
     ]
    },
    {
     "name": "stdout",
     "output_type": "stream",
     "text": [
      "76 \t test acc : 0.7110999822616577\n",
      "====================================================================================================\n",
      "lr : [1.0000000000000005e-09]\n"
     ]
    },
    {
     "name": "stderr",
     "output_type": "stream",
     "text": [
      "100%|██████████| 391/391 [09:14<00:00,  1.42s/it]\n"
     ]
    },
    {
     "name": "stdout",
     "output_type": "stream",
     "text": [
      "distill loss :  0.17566037379786412\n",
      "general loss :  0.36857282699983746\n",
      "Teacher acc: 0.5738399624824524\n",
      "Student acc: 0.9012399911880493\n"
     ]
    },
    {
     "name": "stderr",
     "output_type": "stream",
     "text": [
      "100%|██████████| 79/79 [00:16<00:00,  4.82it/s]\n"
     ]
    },
    {
     "name": "stdout",
     "output_type": "stream",
     "text": [
      "77 \t test acc : 0.8837999701499939\n"
     ]
    },
    {
     "name": "stderr",
     "output_type": "stream",
     "text": [
      "100%|██████████| 79/79 [00:16<00:00,  4.85it/s]\n"
     ]
    },
    {
     "name": "stdout",
     "output_type": "stream",
     "text": [
      "77 \t test acc : 0.7110999822616577\n",
      "====================================================================================================\n",
      "lr : [1.0000000000000005e-09]\n"
     ]
    },
    {
     "name": "stderr",
     "output_type": "stream",
     "text": [
      "100%|██████████| 391/391 [09:07<00:00,  1.40s/it]\n"
     ]
    },
    {
     "name": "stdout",
     "output_type": "stream",
     "text": [
      "distill loss :  0.16166088190834846\n",
      "general loss :  0.36479347220162295\n",
      "Teacher acc: 0.5748400092124939\n",
      "Student acc: 0.901919960975647\n"
     ]
    },
    {
     "name": "stderr",
     "output_type": "stream",
     "text": [
      "100%|██████████| 79/79 [00:16<00:00,  4.86it/s]\n"
     ]
    },
    {
     "name": "stdout",
     "output_type": "stream",
     "text": [
      "78 \t test acc : 0.8837999701499939\n"
     ]
    },
    {
     "name": "stderr",
     "output_type": "stream",
     "text": [
      "100%|██████████| 79/79 [00:16<00:00,  4.83it/s]\n"
     ]
    },
    {
     "name": "stdout",
     "output_type": "stream",
     "text": [
      "78 \t test acc : 0.7110999822616577\n",
      "====================================================================================================\n",
      "lr : [1.0000000000000005e-09]\n"
     ]
    },
    {
     "name": "stderr",
     "output_type": "stream",
     "text": [
      "100%|██████████| 391/391 [09:12<00:00,  1.41s/it]\n"
     ]
    },
    {
     "name": "stdout",
     "output_type": "stream",
     "text": [
      "distill loss :  0.17713107757003563\n",
      "general loss :  0.3562869277527875\n",
      "Teacher acc: 0.5744199752807617\n",
      "Student acc: 0.9039799571037292\n"
     ]
    },
    {
     "name": "stderr",
     "output_type": "stream",
     "text": [
      "100%|██████████| 79/79 [00:16<00:00,  4.88it/s]\n"
     ]
    },
    {
     "name": "stdout",
     "output_type": "stream",
     "text": [
      "79 \t test acc : 0.8837999701499939\n"
     ]
    },
    {
     "name": "stderr",
     "output_type": "stream",
     "text": [
      "100%|██████████| 79/79 [00:16<00:00,  4.88it/s]\n"
     ]
    },
    {
     "name": "stdout",
     "output_type": "stream",
     "text": [
      "79 \t test acc : 0.7110999822616577\n",
      "====================================================================================================\n",
      "lr : [1.0000000000000005e-09]\n"
     ]
    },
    {
     "name": "stderr",
     "output_type": "stream",
     "text": [
      "100%|██████████| 391/391 [09:11<00:00,  1.41s/it]\n"
     ]
    },
    {
     "name": "stdout",
     "output_type": "stream",
     "text": [
      "distill loss :  0.17082321077175533\n",
      "general loss :  0.36606407192204615\n",
      "Teacher acc: 0.5765199661254883\n",
      "Student acc: 0.9013399481773376\n"
     ]
    },
    {
     "name": "stderr",
     "output_type": "stream",
     "text": [
      "100%|██████████| 79/79 [00:16<00:00,  4.84it/s]\n"
     ]
    },
    {
     "name": "stdout",
     "output_type": "stream",
     "text": [
      "80 \t test acc : 0.8837999701499939\n"
     ]
    },
    {
     "name": "stderr",
     "output_type": "stream",
     "text": [
      "100%|██████████| 79/79 [00:16<00:00,  4.84it/s]\n"
     ]
    },
    {
     "name": "stdout",
     "output_type": "stream",
     "text": [
      "80 \t test acc : 0.7110999822616577\n",
      "====================================================================================================\n",
      "lr : [1.0000000000000005e-09]\n"
     ]
    },
    {
     "name": "stderr",
     "output_type": "stream",
     "text": [
      "100%|██████████| 391/391 [09:10<00:00,  1.41s/it]\n"
     ]
    },
    {
     "name": "stdout",
     "output_type": "stream",
     "text": [
      "distill loss :  0.16948118027004286\n",
      "general loss :  0.3638801385679513\n",
      "Teacher acc: 0.571619987487793\n",
      "Student acc: 0.9030799865722656\n"
     ]
    },
    {
     "name": "stderr",
     "output_type": "stream",
     "text": [
      "100%|██████████| 79/79 [00:16<00:00,  4.88it/s]\n"
     ]
    },
    {
     "name": "stdout",
     "output_type": "stream",
     "text": [
      "81 \t test acc : 0.8837999701499939\n"
     ]
    },
    {
     "name": "stderr",
     "output_type": "stream",
     "text": [
      "100%|██████████| 79/79 [00:16<00:00,  4.88it/s]\n"
     ]
    },
    {
     "name": "stdout",
     "output_type": "stream",
     "text": [
      "81 \t test acc : 0.7110999822616577\n",
      "====================================================================================================\n",
      "lr : [1.0000000000000005e-09]\n"
     ]
    },
    {
     "name": "stderr",
     "output_type": "stream",
     "text": [
      " 29%|██▉       | 113/391 [02:39<06:33,  1.41s/it]\n",
      "\n",
      "KeyboardInterrupt\n",
      "\n"
     ]
    }
   ],
   "source": [
    "import numpy as np\n",
    "\n",
    "criterion_onlylabel = lambda a,b : mse(a*b, b)\n",
    "\n",
    "criterion_CE = nn.CrossEntropyLoss()\n",
    "mse = nn.MSELoss()\n",
    "softmax = torch.nn.Softmax(dim = 1)\n",
    "criterion_KLD = torch.nn.KLDivLoss(reduction=\"batchmean\")\n",
    "criterion_response = lambda a,b : criterion_KLD(torch.log_softmax(a, dim=1),torch.softmax(b, dim=1))\n",
    "\n",
    "    \n",
    "import torch\n",
    "import random\n",
    "import torch.backends.cudnn as cudnn\n",
    "import numpy as np\n",
    "\n",
    "torch.manual_seed(0)\n",
    "torch.cuda.manual_seed(0)\n",
    "torch.cuda.manual_seed_all(0)\n",
    "np.random.seed(0)\n",
    "cudnn.benchmark = False\n",
    "cudnn.deterministic = True\n",
    "random.seed(0)\n",
    "past_acc = 0.0\n",
    "stack = 0  \n",
    "for epoch in range(100):\n",
    "    print(f\"lr : {S_scheduler.get_last_lr()}\")\n",
    "    T_correct = 0\n",
    "    S_correct = 0\n",
    "    all_data = 0\n",
    "    \n",
    "    loss_distill = []\n",
    "    loss_CE = []\n",
    "    loss_response = []\n",
    "    student = student.train()\n",
    "    for img, label in tqdm(train_loader):\n",
    "        input_data = img.cuda()\n",
    "        label = label.cuda()\n",
    "        \n",
    "        \n",
    "        all_data += len(input_data)\n",
    "        input_lrp = utils.get_LRP_img(input_data, label, teacher, criterion_CE, T_optimizer, mean=0.9, std = 0.4).cuda()\n",
    "        \n",
    "        S_optimizer.zero_grad()\n",
    "        T_optimizer.zero_grad()\n",
    "\n",
    "        layer = random.randint(0,  3+len(teacher.encoder.layers))\n",
    "        input_data, fk = student(input_data,layer)\n",
    "        input_lrp, fk_lrp = teacher(input_lrp,layer)\n",
    "        \n",
    "        distill_loss = mse(fk, fk_lrp)\n",
    "                    \n",
    "        CE_loss = criterion_CE(input_data, label)\n",
    "        \n",
    "#         response_loss = criterion_response(input_data, input_lrp)\n",
    "        \n",
    "        T_correct += sum(label == torch.argmax(input_lrp, dim=1))\n",
    "        S_correct += sum(label == torch.argmax(input_data, dim=1))\n",
    "        \n",
    "        loss_CE.append(CE_loss.item())\n",
    "        loss_distill.append(distill_loss.item())\n",
    "\n",
    "        loss = (distill_loss * 2 + CE_loss) / 2\n",
    "        loss.backward()\n",
    "        S_optimizer.step()\n",
    "    print(\"distill loss : \", sum(loss_distill) / len(loss_distill))\n",
    "    print(\"general loss : \", sum(loss_CE) / len(loss_CE))\n",
    "#     print(\"response loss : \", sum(loss_response) / len(loss_response))\n",
    "    \n",
    "    print(f\"Teacher acc: {T_correct / all_data}\")\n",
    "    print(f\"Student acc: {S_correct / all_data}\")\n",
    "    test_acc = utils.test(student, val_loader, epoch) # student도 변하는거 확인 완료함\n",
    "    utils.test(teacher, val_loader, epoch) # student도 변하는거 확인 완료함\n",
    "    \n",
    "    if test_acc > past_acc + 0.01:\n",
    "        stack = 0\n",
    "    elif past_acc + 0.005 > test_acc:\n",
    "        stack+=1\n",
    "    past_acc = test_acc\n",
    "    \n",
    "    if stack > 5:\n",
    "        S_scheduler.step()\n",
    "        stack = 0\n",
    "        \n",
    "    print(\"=\" * 100)"
   ]
  },
  {
   "cell_type": "code",
   "execution_count": 15,
   "id": "c0e4bf6f",
   "metadata": {
    "ExecuteTime": {
     "end_time": "2022-06-27T16:24:45.628215Z",
     "start_time": "2022-06-27T16:24:29.598550Z"
    }
   },
   "outputs": [
    {
     "name": "stderr",
     "output_type": "stream",
     "text": [
      "100%|██████████| 79/79 [00:16<00:00,  4.93it/s]"
     ]
    },
    {
     "name": "stdout",
     "output_type": "stream",
     "text": [
      "82 \t test acc : 0.8837999701499939\n"
     ]
    },
    {
     "name": "stderr",
     "output_type": "stream",
     "text": [
      "\n"
     ]
    }
   ],
   "source": [
    "test_acc = utils.test(student, val_loader, epoch)"
   ]
  },
  {
   "cell_type": "code",
   "execution_count": 14,
   "id": "ee7c4d64",
   "metadata": {
    "ExecuteTime": {
     "end_time": "2022-06-27T16:24:27.574612Z",
     "start_time": "2022-06-27T16:24:26.505720Z"
    }
   },
   "outputs": [],
   "source": [
    "torch.save(student, \"models/CIFAR100_VIT_student_8837.pth\")"
   ]
  }
 ],
 "metadata": {
  "kernelspec": {
   "display_name": "torch",
   "language": "python",
   "name": "torch"
  },
  "language_info": {
   "codemirror_mode": {
    "name": "ipython",
    "version": 3
   },
   "file_extension": ".py",
   "mimetype": "text/x-python",
   "name": "python",
   "nbconvert_exporter": "python",
   "pygments_lexer": "ipython3",
   "version": "3.8.13"
  },
  "toc": {
   "base_numbering": 1,
   "nav_menu": {},
   "number_sections": false,
   "sideBar": true,
   "skip_h1_title": false,
   "title_cell": "Table of Contents",
   "title_sidebar": "Contents",
   "toc_cell": false,
   "toc_position": {},
   "toc_section_display": true,
   "toc_window_display": false
  }
 },
 "nbformat": 4,
 "nbformat_minor": 5
}
